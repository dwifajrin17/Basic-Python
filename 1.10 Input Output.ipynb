{
 "cells": [
  {
   "cell_type": "markdown",
   "id": "cc4ba4e4",
   "metadata": {},
   "source": [
    "Input is any data, information, or value that is sent by the user"
   ]
  },
  {
   "cell_type": "code",
   "execution_count": null,
   "id": "65cec2f5",
   "metadata": {},
   "outputs": [],
   "source": [
    "#string"
   ]
  },
  {
   "cell_type": "code",
   "execution_count": 2,
   "id": "42f005f1",
   "metadata": {},
   "outputs": [
    {
     "name": "stdout",
     "output_type": "stream",
     "text": [
      "name of fruit:apple\n"
     ]
    }
   ],
   "source": [
    "fruit = input(\"name of fruit:\")"
   ]
  },
  {
   "cell_type": "code",
   "execution_count": null,
   "id": "1f06d422",
   "metadata": {},
   "outputs": [],
   "source": [
    "#integer"
   ]
  },
  {
   "cell_type": "code",
   "execution_count": 4,
   "id": "f6193cb1",
   "metadata": {},
   "outputs": [
    {
     "name": "stdout",
     "output_type": "stream",
     "text": [
      "age 21\n"
     ]
    }
   ],
   "source": [
    "age = int(input(\"age\"))"
   ]
  },
  {
   "cell_type": "code",
   "execution_count": null,
   "id": "edf541c7",
   "metadata": {},
   "outputs": [],
   "source": [
    "#float"
   ]
  },
  {
   "cell_type": "code",
   "execution_count": 5,
   "id": "b974964d",
   "metadata": {},
   "outputs": [
    {
     "name": "stdout",
     "output_type": "stream",
     "text": [
      "score 77.8\n"
     ]
    }
   ],
   "source": [
    "score = float(input(\"score\"))"
   ]
  },
  {
   "cell_type": "markdown",
   "id": "e36e4af1",
   "metadata": {},
   "source": [
    "Output is the value or data which is the result of the program\n",
    "\n"
   ]
  },
  {
   "cell_type": "code",
   "execution_count": null,
   "id": "2f44d9b2",
   "metadata": {},
   "outputs": [],
   "source": [
    "# 1"
   ]
  },
  {
   "cell_type": "code",
   "execution_count": 6,
   "id": "35660d52",
   "metadata": {},
   "outputs": [],
   "source": [
    "a = \"apple\""
   ]
  },
  {
   "cell_type": "code",
   "execution_count": 7,
   "id": "88605438",
   "metadata": {},
   "outputs": [
    {
     "name": "stdout",
     "output_type": "stream",
     "text": [
      "apple\n"
     ]
    }
   ],
   "source": [
    "print(a)"
   ]
  },
  {
   "cell_type": "code",
   "execution_count": 8,
   "id": "875fac0c",
   "metadata": {},
   "outputs": [],
   "source": [
    "a = 88.7"
   ]
  },
  {
   "cell_type": "code",
   "execution_count": 10,
   "id": "e17fb309",
   "metadata": {},
   "outputs": [
    {
     "name": "stdout",
     "output_type": "stream",
     "text": [
      "first test score 88.7\n"
     ]
    }
   ],
   "source": [
    "print(\"first test score\", a)"
   ]
  },
  {
   "cell_type": "code",
   "execution_count": null,
   "id": "cf72ea60",
   "metadata": {},
   "outputs": [],
   "source": [
    "# 2"
   ]
  },
  {
   "cell_type": "code",
   "execution_count": 11,
   "id": "1e12a2ef",
   "metadata": {},
   "outputs": [
    {
     "name": "stdout",
     "output_type": "stream",
     "text": [
      "this is your book\n"
     ]
    }
   ],
   "source": [
    "print('this is {}'. format('your book'))"
   ]
  },
  {
   "cell_type": "code",
   "execution_count": null,
   "id": "67c13edf",
   "metadata": {},
   "outputs": [],
   "source": [
    "# 3\n",
    "\n",
    "%   s for string\n",
    "    d for integer\n",
    "    f for decimal"
   ]
  },
  {
   "cell_type": "code",
   "execution_count": 13,
   "id": "476b1c80",
   "metadata": {},
   "outputs": [],
   "source": [
    "Name = \"Izek\""
   ]
  },
  {
   "cell_type": "code",
   "execution_count": 14,
   "id": "2ac860b9",
   "metadata": {},
   "outputs": [],
   "source": [
    "Age = 23"
   ]
  },
  {
   "cell_type": "code",
   "execution_count": 15,
   "id": "7930e054",
   "metadata": {},
   "outputs": [
    {
     "name": "stdout",
     "output_type": "stream",
     "text": [
      "He is Izek and his age is 23\n"
     ]
    }
   ],
   "source": [
    "print(\"He is %s and his age is %d\" % (Name, Age))"
   ]
  }
 ],
 "metadata": {
  "kernelspec": {
   "display_name": "Python 3 (ipykernel)",
   "language": "python",
   "name": "python3"
  },
  "language_info": {
   "codemirror_mode": {
    "name": "ipython",
    "version": 3
   },
   "file_extension": ".py",
   "mimetype": "text/x-python",
   "name": "python",
   "nbconvert_exporter": "python",
   "pygments_lexer": "ipython3",
   "version": "3.9.12"
  }
 },
 "nbformat": 4,
 "nbformat_minor": 5
}
