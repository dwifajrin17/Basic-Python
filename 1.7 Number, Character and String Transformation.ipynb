{
 "cells": [
  {
   "cell_type": "markdown",
   "id": "875f5646",
   "metadata": {},
   "source": [
    "* Uppercase\n",
    "\n",
    "    Return the string to upper case"
   ]
  },
  {
   "cell_type": "code",
   "execution_count": 2,
   "id": "4e4cc159",
   "metadata": {},
   "outputs": [],
   "source": [
    "data = \"kampus merdeka\""
   ]
  },
  {
   "cell_type": "code",
   "execution_count": 3,
   "id": "12266d88",
   "metadata": {},
   "outputs": [
    {
     "data": {
      "text/plain": [
       "'KAMPUS MERDEKA'"
      ]
     },
     "execution_count": 3,
     "metadata": {},
     "output_type": "execute_result"
    }
   ],
   "source": [
    "data.upper()"
   ]
  },
  {
   "cell_type": "code",
   "execution_count": 5,
   "id": "cf169624",
   "metadata": {},
   "outputs": [],
   "source": [
    "data = \"kampus merdeka 2022\""
   ]
  },
  {
   "cell_type": "code",
   "execution_count": 6,
   "id": "c669dee7",
   "metadata": {},
   "outputs": [
    {
     "data": {
      "text/plain": [
       "'KAMPUS MERDEKA 2022'"
      ]
     },
     "execution_count": 6,
     "metadata": {},
     "output_type": "execute_result"
    }
   ],
   "source": [
    "data.upper()"
   ]
  },
  {
   "cell_type": "markdown",
   "id": "5b0660cb",
   "metadata": {},
   "source": [
    "* Lowercase\n",
    "\n",
    "    Return the string to lower case"
   ]
  },
  {
   "cell_type": "code",
   "execution_count": 4,
   "id": "38303de7",
   "metadata": {},
   "outputs": [],
   "source": [
    "data_1 = \"KAMPUS MERDEKA\""
   ]
  },
  {
   "cell_type": "code",
   "execution_count": 7,
   "id": "0df0e7f9",
   "metadata": {},
   "outputs": [
    {
     "data": {
      "text/plain": [
       "'kampus merdeka'"
      ]
     },
     "execution_count": 7,
     "metadata": {},
     "output_type": "execute_result"
    }
   ],
   "source": [
    "data_1.lower()"
   ]
  },
  {
   "cell_type": "code",
   "execution_count": 9,
   "id": "276b9393",
   "metadata": {},
   "outputs": [],
   "source": [
    "data_1 = \"KAMPUS MERDEKA, ANGKATAN KE-3\""
   ]
  },
  {
   "cell_type": "code",
   "execution_count": 10,
   "id": "f089d64d",
   "metadata": {},
   "outputs": [
    {
     "data": {
      "text/plain": [
       "'kampus merdeka, angkatan ke-3'"
      ]
     },
     "execution_count": 10,
     "metadata": {},
     "output_type": "execute_result"
    }
   ],
   "source": [
    "data_1.lower()"
   ]
  },
  {
   "cell_type": "markdown",
   "id": "845ffcf5",
   "metadata": {},
   "source": [
    "* rstrip\n",
    "\n",
    "    remove the right whitespace"
   ]
  },
  {
   "cell_type": "code",
   "execution_count": 11,
   "id": "4dba771e",
   "metadata": {},
   "outputs": [],
   "source": [
    "x = \" mangga  \""
   ]
  },
  {
   "cell_type": "code",
   "execution_count": 13,
   "id": "911876df",
   "metadata": {},
   "outputs": [
    {
     "data": {
      "text/plain": [
       "' mangga  '"
      ]
     },
     "execution_count": 13,
     "metadata": {},
     "output_type": "execute_result"
    }
   ],
   "source": [
    "x"
   ]
  },
  {
   "cell_type": "code",
   "execution_count": 17,
   "id": "b4b75cdd",
   "metadata": {},
   "outputs": [
    {
     "data": {
      "text/plain": [
       "' mangga'"
      ]
     },
     "execution_count": 17,
     "metadata": {},
     "output_type": "execute_result"
    }
   ],
   "source": [
    "x.rstrip()"
   ]
  },
  {
   "cell_type": "markdown",
   "id": "0e235348",
   "metadata": {},
   "source": [
    "* lstrip\n",
    "\n",
    "    remove the left whitespace"
   ]
  },
  {
   "cell_type": "code",
   "execution_count": 15,
   "id": "ed52514d",
   "metadata": {},
   "outputs": [],
   "source": [
    "x = \" mangga  \""
   ]
  },
  {
   "cell_type": "code",
   "execution_count": 16,
   "id": "d4d09a14",
   "metadata": {},
   "outputs": [
    {
     "data": {
      "text/plain": [
       "' mangga  '"
      ]
     },
     "execution_count": 16,
     "metadata": {},
     "output_type": "execute_result"
    }
   ],
   "source": [
    "x"
   ]
  },
  {
   "cell_type": "code",
   "execution_count": 18,
   "id": "ce836cd8",
   "metadata": {},
   "outputs": [
    {
     "data": {
      "text/plain": [
       "'mangga  '"
      ]
     },
     "execution_count": 18,
     "metadata": {},
     "output_type": "execute_result"
    }
   ],
   "source": [
    "x.lstrip()"
   ]
  },
  {
   "cell_type": "markdown",
   "id": "a710849d",
   "metadata": {},
   "source": [
    "* strip\n",
    "\n",
    "    remove character"
   ]
  },
  {
   "cell_type": "code",
   "execution_count": 20,
   "id": "eeae0a7e",
   "metadata": {},
   "outputs": [],
   "source": [
    "c = \"Kampus Merdeka Batch3\""
   ]
  },
  {
   "cell_type": "code",
   "execution_count": 21,
   "id": "be9cb83e",
   "metadata": {},
   "outputs": [
    {
     "data": {
      "text/plain": [
       "'Kampus Merdeka '"
      ]
     },
     "execution_count": 21,
     "metadata": {},
     "output_type": "execute_result"
    }
   ],
   "source": [
    "c.strip(\"Batch3\")"
   ]
  },
  {
   "cell_type": "markdown",
   "id": "b939538e",
   "metadata": {},
   "source": [
    "* Startswith\n",
    "\n",
    "    The startswith() method returns True if the string starts with the specified value, otherwise False"
   ]
  },
  {
   "cell_type": "code",
   "execution_count": 22,
   "id": "17a72e2f",
   "metadata": {},
   "outputs": [],
   "source": [
    "r = \"Kampus Merdeka Angkatan Tahun Ketiga\""
   ]
  },
  {
   "cell_type": "code",
   "execution_count": 23,
   "id": "4a2378d0",
   "metadata": {},
   "outputs": [
    {
     "data": {
      "text/plain": [
       "True"
      ]
     },
     "execution_count": 23,
     "metadata": {},
     "output_type": "execute_result"
    }
   ],
   "source": [
    "r.startswith(\"Kampus\")"
   ]
  },
  {
   "cell_type": "code",
   "execution_count": 24,
   "id": "556ced10",
   "metadata": {},
   "outputs": [
    {
     "data": {
      "text/plain": [
       "True"
      ]
     },
     "execution_count": 24,
     "metadata": {},
     "output_type": "execute_result"
    }
   ],
   "source": [
    "r.startswith(\"Kampus Merdeka\")"
   ]
  },
  {
   "cell_type": "code",
   "execution_count": 25,
   "id": "a5a64393",
   "metadata": {},
   "outputs": [
    {
     "data": {
      "text/plain": [
       "False"
      ]
     },
     "execution_count": 25,
     "metadata": {},
     "output_type": "execute_result"
    }
   ],
   "source": [
    "r.startswith(\"Angkatan\")"
   ]
  },
  {
   "cell_type": "markdown",
   "id": "62fede30",
   "metadata": {},
   "source": [
    "* Endswith\n",
    "\n",
    "    The endswith() method returns True if the string end with the specified value, otherwise False"
   ]
  },
  {
   "cell_type": "code",
   "execution_count": 26,
   "id": "74509118",
   "metadata": {},
   "outputs": [],
   "source": [
    "r = \"Kampus Merdeka Angkatan Tahun Ketiga\""
   ]
  },
  {
   "cell_type": "code",
   "execution_count": 27,
   "id": "cb1791aa",
   "metadata": {},
   "outputs": [
    {
     "data": {
      "text/plain": [
       "True"
      ]
     },
     "execution_count": 27,
     "metadata": {},
     "output_type": "execute_result"
    }
   ],
   "source": [
    "r.endswith(\"Ketiga\")"
   ]
  },
  {
   "cell_type": "code",
   "execution_count": 28,
   "id": "60581535",
   "metadata": {},
   "outputs": [
    {
     "data": {
      "text/plain": [
       "True"
      ]
     },
     "execution_count": 28,
     "metadata": {},
     "output_type": "execute_result"
    }
   ],
   "source": [
    "r.endswith(\"Tahun Ketiga\")"
   ]
  },
  {
   "cell_type": "code",
   "execution_count": 29,
   "id": "13cce0ca",
   "metadata": {},
   "outputs": [
    {
     "data": {
      "text/plain": [
       "False"
      ]
     },
     "execution_count": 29,
     "metadata": {},
     "output_type": "execute_result"
    }
   ],
   "source": [
    "r.endswith(\"Angkatan\")"
   ]
  },
  {
   "cell_type": "code",
   "execution_count": null,
   "id": "bc0e8103",
   "metadata": {},
   "outputs": [],
   "source": []
  }
 ],
 "metadata": {
  "kernelspec": {
   "display_name": "Python 3 (ipykernel)",
   "language": "python",
   "name": "python3"
  },
  "language_info": {
   "codemirror_mode": {
    "name": "ipython",
    "version": 3
   },
   "file_extension": ".py",
   "mimetype": "text/x-python",
   "name": "python",
   "nbconvert_exporter": "python",
   "pygments_lexer": "ipython3",
   "version": "3.9.12"
  }
 },
 "nbformat": 4,
 "nbformat_minor": 5
}
