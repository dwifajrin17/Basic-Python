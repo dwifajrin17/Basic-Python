{
 "cells": [
  {
   "cell_type": "markdown",
   "id": "59cc0991",
   "metadata": {},
   "source": [
    "# List"
   ]
  },
  {
   "cell_type": "markdown",
   "id": "087e1b4b",
   "metadata": {},
   "source": [
    "List define by using square brackets [ ]\n",
    "\n",
    "List items are ordered, changeable, and allow duplicate values.\n",
    "\n",
    "List items are indexed, the first item has index [0], the second item has index [1] etc."
   ]
  },
  {
   "cell_type": "code",
   "execution_count": 1,
   "id": "906e1116",
   "metadata": {},
   "outputs": [],
   "source": [
    "a = [1, 2, 3, 'Four', 'Five']"
   ]
  },
  {
   "cell_type": "code",
   "execution_count": 2,
   "id": "9ea50a66",
   "metadata": {},
   "outputs": [
    {
     "data": {
      "text/plain": [
       "1"
      ]
     },
     "execution_count": 2,
     "metadata": {},
     "output_type": "execute_result"
    }
   ],
   "source": [
    "a[0]"
   ]
  },
  {
   "cell_type": "code",
   "execution_count": 3,
   "id": "19f6b71d",
   "metadata": {},
   "outputs": [
    {
     "data": {
      "text/plain": [
       "int"
      ]
     },
     "execution_count": 3,
     "metadata": {},
     "output_type": "execute_result"
    }
   ],
   "source": [
    "type(a[0])"
   ]
  },
  {
   "cell_type": "code",
   "execution_count": 5,
   "id": "4c9efbd3",
   "metadata": {},
   "outputs": [
    {
     "data": {
      "text/plain": [
       "'Four'"
      ]
     },
     "execution_count": 5,
     "metadata": {},
     "output_type": "execute_result"
    }
   ],
   "source": [
    "a[3]"
   ]
  },
  {
   "cell_type": "code",
   "execution_count": 6,
   "id": "f8f0ed47",
   "metadata": {},
   "outputs": [
    {
     "data": {
      "text/plain": [
       "str"
      ]
     },
     "execution_count": 6,
     "metadata": {},
     "output_type": "execute_result"
    }
   ],
   "source": [
    "type(a[3])"
   ]
  },
  {
   "cell_type": "markdown",
   "id": "fe97315d",
   "metadata": {},
   "source": [
    "minus index\n",
    "\n",
    "Python supports “indexing from the end”, that is negative indexing. \n",
    "\n",
    "This means the last value of a sequence has an index of -1, the second last -2, and so on."
   ]
  },
  {
   "cell_type": "code",
   "execution_count": 7,
   "id": "5f3cd5fd",
   "metadata": {},
   "outputs": [
    {
     "data": {
      "text/plain": [
       "'Four'"
      ]
     },
     "execution_count": 7,
     "metadata": {},
     "output_type": "execute_result"
    }
   ],
   "source": [
    "a[-2]"
   ]
  },
  {
   "cell_type": "markdown",
   "id": "0e1a889d",
   "metadata": {},
   "source": [
    "* Slicing\n",
    "\n",
    "    2 parameter\n",
    "    \n",
    "    Returns a slice object\n",
    "\n",
    "    Specify the start index and the end index, separated by a colon\n",
    "    \n",
    "    Syntax: slice [start : stop]\n",
    "    \n",
    "    \n",
    "     -  slice from the start by leaving out the start index\n",
    "    \n",
    "     -  slice to end by leaving out the stop index\n",
    "     \n",
    "     -  use negative indexes to start the slice from the end of the string"
   ]
  },
  {
   "cell_type": "code",
   "execution_count": 8,
   "id": "a29a876b",
   "metadata": {},
   "outputs": [],
   "source": [
    "a = [1, 2, 3, 'Four', 'Five']"
   ]
  },
  {
   "cell_type": "code",
   "execution_count": 9,
   "id": "d131c2f1",
   "metadata": {},
   "outputs": [
    {
     "data": {
      "text/plain": [
       "[3, 'Four']"
      ]
     },
     "execution_count": 9,
     "metadata": {},
     "output_type": "execute_result"
    }
   ],
   "source": [
    "a[2:4]"
   ]
  },
  {
   "cell_type": "code",
   "execution_count": 10,
   "id": "a55bafee",
   "metadata": {},
   "outputs": [
    {
     "data": {
      "text/plain": [
       "[1, 2, 3, 'Four']"
      ]
     },
     "execution_count": 10,
     "metadata": {},
     "output_type": "execute_result"
    }
   ],
   "source": [
    "a[:4]"
   ]
  },
  {
   "cell_type": "code",
   "execution_count": 11,
   "id": "3a5a90f9",
   "metadata": {},
   "outputs": [
    {
     "data": {
      "text/plain": [
       "[2, 3, 'Four', 'Five']"
      ]
     },
     "execution_count": 11,
     "metadata": {},
     "output_type": "execute_result"
    }
   ],
   "source": [
    "a[1:]"
   ]
  },
  {
   "cell_type": "code",
   "execution_count": 12,
   "id": "d0dd596a",
   "metadata": {},
   "outputs": [
    {
     "data": {
      "text/plain": [
       "[2, 3, 'Four']"
      ]
     },
     "execution_count": 12,
     "metadata": {},
     "output_type": "execute_result"
    }
   ],
   "source": [
    "a[-4:-1]"
   ]
  },
  {
   "cell_type": "markdown",
   "id": "768f0f90",
   "metadata": {},
   "source": [
    "* Slicing\n",
    "\n",
    "    3 parameter\n",
    "    \n",
    "    Syntax: variabel[start:stop:step]\n",
    "\n",
    "    start: Starting index where the slicing of object starts\n",
    "    \n",
    "    stop: Ending index where the slicing of object stops\n",
    "    \n",
    "    step: It is an optional argument that determines the increment between each index for slicing"
   ]
  },
  {
   "cell_type": "code",
   "execution_count": 13,
   "id": "1db731e1",
   "metadata": {},
   "outputs": [],
   "source": [
    "a = [1, 2, 3, 4, 5, 'six', 'seven', 'eight', 'nine', 'ten']"
   ]
  },
  {
   "cell_type": "code",
   "execution_count": 14,
   "id": "71991e94",
   "metadata": {},
   "outputs": [
    {
     "data": {
      "text/plain": [
       "[1, 3, 5, 'seven', 'nine']"
      ]
     },
     "execution_count": 14,
     "metadata": {},
     "output_type": "execute_result"
    }
   ],
   "source": [
    "a[0:9:2]"
   ]
  },
  {
   "cell_type": "code",
   "execution_count": 15,
   "id": "d6f5e152",
   "metadata": {},
   "outputs": [
    {
     "data": {
      "text/plain": [
       "[3, 'six', 'nine']"
      ]
     },
     "execution_count": 15,
     "metadata": {},
     "output_type": "execute_result"
    }
   ],
   "source": [
    "a[-8:-1:3]"
   ]
  },
  {
   "cell_type": "markdown",
   "id": "70e0b0e2",
   "metadata": {},
   "source": [
    "* Len\n",
    "\n",
    "    The len() function returns the number of items in an object"
   ]
  },
  {
   "cell_type": "code",
   "execution_count": 16,
   "id": "a3e5a990",
   "metadata": {},
   "outputs": [],
   "source": [
    "a = [1, 2, 3, 4, 5, 'six', 'seven', 'eight', 'nine', 'ten']"
   ]
  },
  {
   "cell_type": "code",
   "execution_count": 17,
   "id": "9bbcf85c",
   "metadata": {},
   "outputs": [
    {
     "data": {
      "text/plain": [
       "10"
      ]
     },
     "execution_count": 17,
     "metadata": {},
     "output_type": "execute_result"
    }
   ],
   "source": [
    "len(a)"
   ]
  },
  {
   "cell_type": "markdown",
   "id": "922de9d3",
   "metadata": {},
   "source": [
    "CHANGE ITEMS IN THE LIST\n",
    "\n",
    "* Append\n",
    "\n",
    "    add new item in the list\n",
    "    \n",
    "    by default, the new item would add in the end of thr list"
   ]
  },
  {
   "cell_type": "code",
   "execution_count": 19,
   "id": "9e32687f",
   "metadata": {},
   "outputs": [],
   "source": [
    "b = [1, 2, 3, 'Four', 'Five']"
   ]
  },
  {
   "cell_type": "code",
   "execution_count": 22,
   "id": "f8ef3613",
   "metadata": {},
   "outputs": [],
   "source": [
    "b.append(\"six\")"
   ]
  },
  {
   "cell_type": "code",
   "execution_count": 23,
   "id": "bf091596",
   "metadata": {},
   "outputs": [
    {
     "name": "stdout",
     "output_type": "stream",
     "text": [
      "[1, 2, 3, 'Four', 'Five', 'six']\n"
     ]
    }
   ],
   "source": [
    "print(b)"
   ]
  },
  {
   "cell_type": "code",
   "execution_count": 24,
   "id": "6beff0d2",
   "metadata": {},
   "outputs": [],
   "source": [
    "b.append(7)"
   ]
  },
  {
   "cell_type": "code",
   "execution_count": 25,
   "id": "f973d2f1",
   "metadata": {},
   "outputs": [
    {
     "name": "stdout",
     "output_type": "stream",
     "text": [
      "[1, 2, 3, 'Four', 'Five', 'six', 7]\n"
     ]
    }
   ],
   "source": [
    "print(b)"
   ]
  },
  {
   "cell_type": "markdown",
   "id": "dd2952d9",
   "metadata": {},
   "source": [
    "* Delete\n",
    "\n",
    "    delete item in the list \n",
    "    \n",
    "    syntax = del variabel[index]"
   ]
  },
  {
   "cell_type": "code",
   "execution_count": 26,
   "id": "0d9f7437",
   "metadata": {},
   "outputs": [],
   "source": [
    "c = [1, 2, 3, 'Four', 'Five']"
   ]
  },
  {
   "cell_type": "code",
   "execution_count": 28,
   "id": "659ae7d5",
   "metadata": {},
   "outputs": [],
   "source": [
    "del c[0]"
   ]
  },
  {
   "cell_type": "code",
   "execution_count": 29,
   "id": "727fdab0",
   "metadata": {},
   "outputs": [
    {
     "name": "stdout",
     "output_type": "stream",
     "text": [
      "[2, 3, 'Four', 'Five']\n"
     ]
    }
   ],
   "source": [
    "print(c)"
   ]
  },
  {
   "cell_type": "code",
   "execution_count": 30,
   "id": "7da3f7be",
   "metadata": {},
   "outputs": [],
   "source": [
    "del c[-1]"
   ]
  },
  {
   "cell_type": "code",
   "execution_count": 31,
   "id": "1a499faf",
   "metadata": {},
   "outputs": [
    {
     "name": "stdout",
     "output_type": "stream",
     "text": [
      "[2, 3, 'Four']\n"
     ]
    }
   ],
   "source": [
    "print(c)"
   ]
  },
  {
   "cell_type": "markdown",
   "id": "88134c91",
   "metadata": {},
   "source": [
    "* Extend\n",
    "\n",
    "    add new items more than one\n",
    "    \n",
    "    syntax = variabel.extend([item 1,item 2])\n",
    "    \n",
    "    by default the new item would add in the end of the list"
   ]
  },
  {
   "cell_type": "code",
   "execution_count": 33,
   "id": "231af168",
   "metadata": {},
   "outputs": [],
   "source": [
    "c = [1, 2, 3, 'Four', 'Five']"
   ]
  },
  {
   "cell_type": "code",
   "execution_count": 34,
   "id": "efc27221",
   "metadata": {},
   "outputs": [],
   "source": [
    "c.extend([6,'Seven'])"
   ]
  },
  {
   "cell_type": "code",
   "execution_count": 35,
   "id": "2d51df06",
   "metadata": {},
   "outputs": [
    {
     "name": "stdout",
     "output_type": "stream",
     "text": [
      "[1, 2, 3, 'Four', 'Five', 6, 'Seven']\n"
     ]
    }
   ],
   "source": [
    "print(c = [1, 2, 3, 'Four', 'Five']c)"
   ]
  },
  {
   "cell_type": "code",
   "execution_count": 36,
   "id": "50d9c18c",
   "metadata": {},
   "outputs": [],
   "source": [
    "c.extend([6,'Seven',8])"
   ]
  },
  {
   "cell_type": "code",
   "execution_count": 37,
   "id": "1755e775",
   "metadata": {},
   "outputs": [
    {
     "name": "stdout",
     "output_type": "stream",
     "text": [
      "[1, 2, 3, 'Four', 'Five', 6, 'Seven', 6, 'Seven', 8]\n"
     ]
    }
   ],
   "source": [
    "print(c)"
   ]
  },
  {
   "cell_type": "markdown",
   "id": "f0368583",
   "metadata": {},
   "source": [
    "* Insert\n",
    "\n",
    "    add new items in certain position\n",
    "    \n",
    "    syntax = variabel.insert(index,item)"
   ]
  },
  {
   "cell_type": "code",
   "execution_count": 43,
   "id": "1504107b",
   "metadata": {},
   "outputs": [],
   "source": [
    "c = [1, 2, 3, 'Four', 'Five']"
   ]
  },
  {
   "cell_type": "code",
   "execution_count": 46,
   "id": "217d21c6",
   "metadata": {},
   "outputs": [],
   "source": [
    "c.insert(3,3.3)"
   ]
  },
  {
   "cell_type": "code",
   "execution_count": 47,
   "id": "903b52dd",
   "metadata": {},
   "outputs": [
    {
     "name": "stdout",
     "output_type": "stream",
     "text": [
      "[1, 2, 3, 3.3, 'Four', 'Five', 3]\n"
     ]
    }
   ],
   "source": [
    "print(c)"
   ]
  },
  {
   "cell_type": "markdown",
   "id": "96bdf653",
   "metadata": {},
   "source": [
    "* Pop\n",
    "\n",
    "    The pop() use to remove the item at the given index from the list and returns the removed item\n",
    "    \n",
    "    syntax = variabel.pop(index)"
   ]
  },
  {
   "cell_type": "code",
   "execution_count": 49,
   "id": "b802ed5e",
   "metadata": {},
   "outputs": [],
   "source": [
    "d = [1, 2, 3, 'Four', 'Five']"
   ]
  },
  {
   "cell_type": "code",
   "execution_count": 50,
   "id": "40289e6e",
   "metadata": {},
   "outputs": [
    {
     "data": {
      "text/plain": [
       "1"
      ]
     },
     "execution_count": 50,
     "metadata": {},
     "output_type": "execute_result"
    }
   ],
   "source": [
    "d.pop(0)"
   ]
  },
  {
   "cell_type": "code",
   "execution_count": 51,
   "id": "a63e53ff",
   "metadata": {},
   "outputs": [
    {
     "name": "stdout",
     "output_type": "stream",
     "text": [
      "[2, 3, 'Four', 'Five']\n"
     ]
    }
   ],
   "source": [
    "print(d)"
   ]
  },
  {
   "cell_type": "code",
   "execution_count": 52,
   "id": "2d27d1bd",
   "metadata": {},
   "outputs": [
    {
     "data": {
      "text/plain": [
       "'Five'"
      ]
     },
     "execution_count": 52,
     "metadata": {},
     "output_type": "execute_result"
    }
   ],
   "source": [
    "d.pop(-1)"
   ]
  },
  {
   "cell_type": "code",
   "execution_count": 53,
   "id": "fd1b4047",
   "metadata": {},
   "outputs": [
    {
     "name": "stdout",
     "output_type": "stream",
     "text": [
      "[2, 3, 'Four']\n"
     ]
    }
   ],
   "source": [
    "print(d)"
   ]
  },
  {
   "cell_type": "markdown",
   "id": "afa50254",
   "metadata": {},
   "source": [
    "* Count\n",
    "\n",
    "    Count he number of accurences of an element\n",
    "    \n",
    "    Syntax = Variabel.count(item)"
   ]
  },
  {
   "cell_type": "code",
   "execution_count": 54,
   "id": "f862eb9d",
   "metadata": {},
   "outputs": [],
   "source": [
    "e = [1,1, 2, 2, 3, 'Four', 'Five', 'Five']"
   ]
  },
  {
   "cell_type": "code",
   "execution_count": 55,
   "id": "3c609c06",
   "metadata": {},
   "outputs": [
    {
     "data": {
      "text/plain": [
       "2"
      ]
     },
     "execution_count": 55,
     "metadata": {},
     "output_type": "execute_result"
    }
   ],
   "source": [
    "e.count(1)"
   ]
  },
  {
   "cell_type": "code",
   "execution_count": 56,
   "id": "d093460e",
   "metadata": {},
   "outputs": [
    {
     "data": {
      "text/plain": [
       "2"
      ]
     },
     "execution_count": 56,
     "metadata": {},
     "output_type": "execute_result"
    }
   ],
   "source": [
    "e.count('Five')"
   ]
  },
  {
   "cell_type": "markdown",
   "id": "ff026727",
   "metadata": {},
   "source": [
    "* Sort\n",
    "\n",
    "    sorts the list, by default asc \n",
    "    \n",
    "    reverse = true --> desc\n",
    "    \n",
    "    Syntax = variabel.sort() "
   ]
  },
  {
   "cell_type": "code",
   "execution_count": 60,
   "id": "7b080a9f",
   "metadata": {},
   "outputs": [],
   "source": [
    "f = [1, 2, 3, 8, 7, 7, 6]"
   ]
  },
  {
   "cell_type": "code",
   "execution_count": 61,
   "id": "0c27a2db",
   "metadata": {},
   "outputs": [],
   "source": [
    "f.sort()"
   ]
  },
  {
   "cell_type": "code",
   "execution_count": 62,
   "id": "37b4a35c",
   "metadata": {},
   "outputs": [
    {
     "name": "stdout",
     "output_type": "stream",
     "text": [
      "[1, 2, 3, 6, 7, 7, 8]\n"
     ]
    }
   ],
   "source": [
    "print(f)"
   ]
  },
  {
   "cell_type": "code",
   "execution_count": 64,
   "id": "787c5e22",
   "metadata": {},
   "outputs": [],
   "source": [
    "f.sort(reverse=True)"
   ]
  },
  {
   "cell_type": "code",
   "execution_count": 65,
   "id": "e7262597",
   "metadata": {},
   "outputs": [
    {
     "name": "stdout",
     "output_type": "stream",
     "text": [
      "[8, 7, 7, 6, 3, 2, 1]\n"
     ]
    }
   ],
   "source": [
    "print(f)"
   ]
  },
  {
   "cell_type": "code",
   "execution_count": null,
   "id": "68875b27",
   "metadata": {},
   "outputs": [],
   "source": []
  }
 ],
 "metadata": {
  "kernelspec": {
   "display_name": "Python 3 (ipykernel)",
   "language": "python",
   "name": "python3"
  },
  "language_info": {
   "codemirror_mode": {
    "name": "ipython",
    "version": 3
   },
   "file_extension": ".py",
   "mimetype": "text/x-python",
   "name": "python",
   "nbconvert_exporter": "python",
   "pygments_lexer": "ipython3",
   "version": "3.9.12"
  }
 },
 "nbformat": 4,
 "nbformat_minor": 5
}
