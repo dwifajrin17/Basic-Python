{
 "cells": [
  {
   "cell_type": "markdown",
   "id": "bdbb99f4",
   "metadata": {},
   "source": [
    "# Tupel"
   ]
  },
  {
   "cell_type": "markdown",
   "id": "64c1d0ec",
   "metadata": {},
   "source": [
    "Tuples are used to store multiple items in a single variable\n",
    "\n",
    "A tuple is a collection which is ordered, unchangeable and define by parenthesis ( )"
   ]
  },
  {
   "cell_type": "code",
   "execution_count": 1,
   "id": "cfdf5a74",
   "metadata": {},
   "outputs": [],
   "source": [
    "a = ('one', 'two', 'three', 'four', 'five', 6, 7, 8, 9, 10)"
   ]
  },
  {
   "cell_type": "code",
   "execution_count": 3,
   "id": "4e1f0eb0",
   "metadata": {},
   "outputs": [
    {
     "name": "stdout",
     "output_type": "stream",
     "text": [
      "('one', 'two', 'three', 'four', 'five', 6, 7, 8, 9, 10)\n"
     ]
    }
   ],
   "source": [
    "print(a)"
   ]
  },
  {
   "cell_type": "markdown",
   "id": "c93aebb3",
   "metadata": {},
   "source": [
    "* Slicing"
   ]
  },
  {
   "cell_type": "code",
   "execution_count": 5,
   "id": "602a5a79",
   "metadata": {},
   "outputs": [
    {
     "name": "stdout",
     "output_type": "stream",
     "text": [
      "four\n"
     ]
    }
   ],
   "source": [
    "print(a[3])"
   ]
  },
  {
   "cell_type": "code",
   "execution_count": 6,
   "id": "0d79bda1",
   "metadata": {},
   "outputs": [
    {
     "name": "stdout",
     "output_type": "stream",
     "text": [
      "(8, 9)\n"
     ]
    }
   ],
   "source": [
    "print(a[-3:-1])"
   ]
  },
  {
   "cell_type": "code",
   "execution_count": 7,
   "id": "db513657",
   "metadata": {},
   "outputs": [
    {
     "name": "stdout",
     "output_type": "stream",
     "text": [
      "('one', 'three', 'five', 7)\n"
     ]
    }
   ],
   "source": [
    "print(a[0:8:2])"
   ]
  },
  {
   "cell_type": "markdown",
   "id": "3d26e48b",
   "metadata": {},
   "source": [
    "Tuple is unchangeable, you cant change the item in the tupel"
   ]
  },
  {
   "cell_type": "code",
   "execution_count": 8,
   "id": "8f342587",
   "metadata": {},
   "outputs": [
    {
     "ename": "SyntaxError",
     "evalue": "expression cannot contain assignment, perhaps you meant \"==\"? (199163365.py, line 1)",
     "output_type": "error",
     "traceback": [
      "\u001b[1;36m  Input \u001b[1;32mIn [8]\u001b[1;36m\u001b[0m\n\u001b[1;33m    print(q[0]=17)\u001b[0m\n\u001b[1;37m          ^\u001b[0m\n\u001b[1;31mSyntaxError\u001b[0m\u001b[1;31m:\u001b[0m expression cannot contain assignment, perhaps you meant \"==\"?\n"
     ]
    }
   ],
   "source": [
    "print(q[0]=17)"
   ]
  },
  {
   "cell_type": "code",
   "execution_count": null,
   "id": "8871f023",
   "metadata": {},
   "outputs": [],
   "source": []
  }
 ],
 "metadata": {
  "kernelspec": {
   "display_name": "Python 3 (ipykernel)",
   "language": "python",
   "name": "python3"
  },
  "language_info": {
   "codemirror_mode": {
    "name": "ipython",
    "version": 3
   },
   "file_extension": ".py",
   "mimetype": "text/x-python",
   "name": "python",
   "nbconvert_exporter": "python",
   "pygments_lexer": "ipython3",
   "version": "3.9.12"
  }
 },
 "nbformat": 4,
 "nbformat_minor": 5
}
