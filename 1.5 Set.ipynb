{
 "cells": [
  {
   "cell_type": "markdown",
   "id": "58049a1a",
   "metadata": {},
   "source": [
    "# Set"
   ]
  },
  {
   "cell_type": "markdown",
   "id": "b24b9c3a",
   "metadata": {},
   "source": [
    "    Sets are used to store multiple items in a single variable, must be uniqe, define by brackets { }\n",
    "    \n",
    "    Set is a collection which is unordered, unchangeable, and unindexed"
   ]
  },
  {
   "cell_type": "code",
   "execution_count": 2,
   "id": "f889c700",
   "metadata": {},
   "outputs": [],
   "source": [
    "a = {'one', 'two', 'three', 'four', 'five',6, 7, 8, 9, 10}"
   ]
  },
  {
   "cell_type": "code",
   "execution_count": 3,
   "id": "bace51ad",
   "metadata": {},
   "outputs": [
    {
     "name": "stdout",
     "output_type": "stream",
     "text": [
      "{'five', 'two', 6, 'three', 7, 8, 9, 10, 'one', 'four'}\n"
     ]
    }
   ],
   "source": [
    "print(a)"
   ]
  },
  {
   "cell_type": "markdown",
   "id": "b53379a8",
   "metadata": {},
   "source": [
    "* Union\n",
    "\n",
    "    Returns a set that contains all items from the original set, and all items from the specified set(s)."
   ]
  },
  {
   "cell_type": "code",
   "execution_count": 5,
   "id": "e8165522",
   "metadata": {},
   "outputs": [],
   "source": [
    "a = {'one', 'two', 'three', 'four', 'five',6, 7, 8, 9, 10, 10, 9, 8, 7}"
   ]
  },
  {
   "cell_type": "code",
   "execution_count": 9,
   "id": "252e03dc",
   "metadata": {},
   "outputs": [
    {
     "name": "stdout",
     "output_type": "stream",
     "text": [
      "{'five', 'two', 6, 'three', 7, 8, 9, 10, 'one', 'four'}\n"
     ]
    }
   ],
   "source": [
    "print(a)"
   ]
  },
  {
   "cell_type": "code",
   "execution_count": 6,
   "id": "7f68a96e",
   "metadata": {},
   "outputs": [],
   "source": [
    "b = {'six', 'seven', 'eight', 8, 9, 10}"
   ]
  },
  {
   "cell_type": "code",
   "execution_count": 10,
   "id": "850f71cb",
   "metadata": {},
   "outputs": [
    {
     "name": "stdout",
     "output_type": "stream",
     "text": [
      "{'seven', 8, 9, 10, 'six', 'eight'}\n"
     ]
    }
   ],
   "source": [
    "print(b)"
   ]
  },
  {
   "cell_type": "code",
   "execution_count": 8,
   "id": "ca26bf92",
   "metadata": {},
   "outputs": [
    {
     "name": "stdout",
     "output_type": "stream",
     "text": [
      "{'five', 'two', 6, 'three', 7, 8, 9, 10, 'seven', 'one', 'four', 'six', 'eight'}\n"
     ]
    }
   ],
   "source": [
    "print(a.union(b))"
   ]
  },
  {
   "cell_type": "markdown",
   "id": "4887ba0f",
   "metadata": {},
   "source": [
    "*Intersection\n",
    "\n",
    "    the returned set contains only items that exist in both sets\n",
    "    \n",
    "    or in all sets if the comparison is done with more than two sets"
   ]
  },
  {
   "cell_type": "code",
   "execution_count": 12,
   "id": "65e6a75e",
   "metadata": {},
   "outputs": [
    {
     "name": "stdout",
     "output_type": "stream",
     "text": [
      "{8, 9, 10}\n"
     ]
    }
   ],
   "source": [
    "print(a.intersection(b))"
   ]
  },
  {
   "cell_type": "code",
   "execution_count": null,
   "id": "011ae7fb",
   "metadata": {},
   "outputs": [],
   "source": []
  }
 ],
 "metadata": {
  "kernelspec": {
   "display_name": "Python 3 (ipykernel)",
   "language": "python",
   "name": "python3"
  },
  "language_info": {
   "codemirror_mode": {
    "name": "ipython",
    "version": 3
   },
   "file_extension": ".py",
   "mimetype": "text/x-python",
   "name": "python",
   "nbconvert_exporter": "python",
   "pygments_lexer": "ipython3",
   "version": "3.9.12"
  }
 },
 "nbformat": 4,
 "nbformat_minor": 5
}
