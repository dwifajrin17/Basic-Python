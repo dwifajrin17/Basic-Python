{
 "cells": [
  {
   "cell_type": "markdown",
   "id": "651ce17e",
   "metadata": {},
   "source": [
    "# Dictionary"
   ]
  },
  {
   "cell_type": "markdown",
   "id": "288436f7",
   "metadata": {},
   "source": [
    "Dictionaries are used to store data values in key:value pairs, define by brackets { }\n",
    "\n",
    "A dictionary is a collection which is unordered, changeable and do not allow duplicates"
   ]
  },
  {
   "cell_type": "code",
   "execution_count": 2,
   "id": "69ffb4de",
   "metadata": {},
   "outputs": [],
   "source": [
    "data = {\"nama\": \"Ana\", \"kelas\": \"data science B\", \"umur\": 9, \"nilai\" : {\"ujian 1\" : 10}}"
   ]
  },
  {
   "cell_type": "code",
   "execution_count": 3,
   "id": "e5eb2f65",
   "metadata": {},
   "outputs": [
    {
     "name": "stdout",
     "output_type": "stream",
     "text": [
      "{'nama': 'Ana', 'kelas': 'data science B', 'umur': 9, 'nilai': {'ujian 1': 10}}\n"
     ]
    }
   ],
   "source": [
    "print(data)"
   ]
  },
  {
   "cell_type": "code",
   "execution_count": 4,
   "id": "f24cdd5a",
   "metadata": {},
   "outputs": [
    {
     "data": {
      "text/plain": [
       "dict"
      ]
     },
     "execution_count": 4,
     "metadata": {},
     "output_type": "execute_result"
    }
   ],
   "source": [
    "type(data)"
   ]
  },
  {
   "cell_type": "code",
   "execution_count": 5,
   "id": "e8fbc1f8",
   "metadata": {},
   "outputs": [
    {
     "name": "stdout",
     "output_type": "stream",
     "text": [
      "ujian : 10\n"
     ]
    }
   ],
   "source": [
    "print('ujian :', data['nilai']['ujian 1'])"
   ]
  },
  {
   "cell_type": "code",
   "execution_count": 8,
   "id": "e497a68d",
   "metadata": {},
   "outputs": [
    {
     "data": {
      "text/plain": [
       "'Ana'"
      ]
     },
     "execution_count": 8,
     "metadata": {},
     "output_type": "execute_result"
    }
   ],
   "source": [
    "data[\"nama\"]"
   ]
  },
  {
   "cell_type": "code",
   "execution_count": 9,
   "id": "9f4bf8c8",
   "metadata": {},
   "outputs": [
    {
     "data": {
      "text/plain": [
       "'data science B'"
      ]
     },
     "execution_count": 9,
     "metadata": {},
     "output_type": "execute_result"
    }
   ],
   "source": [
    "data[\"kelas\"]"
   ]
  },
  {
   "cell_type": "code",
   "execution_count": null,
   "id": "1eb18f6f",
   "metadata": {},
   "outputs": [],
   "source": []
  }
 ],
 "metadata": {
  "kernelspec": {
   "display_name": "Python 3 (ipykernel)",
   "language": "python",
   "name": "python3"
  },
  "language_info": {
   "codemirror_mode": {
    "name": "ipython",
    "version": 3
   },
   "file_extension": ".py",
   "mimetype": "text/x-python",
   "name": "python",
   "nbconvert_exporter": "python",
   "pygments_lexer": "ipython3",
   "version": "3.9.12"
  }
 },
 "nbformat": 4,
 "nbformat_minor": 5
}
