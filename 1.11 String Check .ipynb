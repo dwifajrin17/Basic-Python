{
 "cells": [
  {
   "cell_type": "markdown",
   "id": "dbdc2cf4",
   "metadata": {},
   "source": [
    "* isupper\n",
    "\n",
    "    method returns “True” if all the characters in the string are uppercase; otherwise, It returns “False”\n",
    "    \n",
    "    \n",
    "* islower\n",
    "\n",
    "    method returns “True” if all the characters in the string are lowercase; otherwise, it returns “False”\n",
    "    \n",
    "    \n",
    "* isaplha\n",
    "\n",
    "    method returns True if a string contains characters that are classified as a letter in the Unicode character database\n",
    "    \n",
    "    \n",
    "* isalnum\n",
    "\n",
    "    method returns True if all the characters are alphanumeric, meaning alphabet letter (a-z) and numbers (0-9)\n",
    "    \n",
    "    \n",
    "* isdecimal\n",
    "\n",
    "    method returns true if a character is an integer in the Base-10 number system\n",
    "    \n",
    "    \n",
    "* isspace\n",
    "\n",
    "    classification method returns true if the string represents a whitespace character \n",
    "    \n",
    "    (space, tab, or newline including \\t, \\r, \\n)\n",
    "    \n",
    "    \n",
    "* istitle\n",
    "\n",
    "    method returns True if all words in a text start with a upper case letter\n",
    "    \n",
    "    and the rest of the word are lower case letters, otherwise False, symbols and numbers are ignored\n",
    "\n",
    "    "
   ]
  },
  {
   "cell_type": "code",
   "execution_count": null,
   "id": "97998e47",
   "metadata": {},
   "outputs": [],
   "source": [
    "# isupper"
   ]
  },
  {
   "cell_type": "code",
   "execution_count": 1,
   "id": "124f1b1b",
   "metadata": {},
   "outputs": [],
   "source": [
    "a = \"KAMPUS MERDEKA\""
   ]
  },
  {
   "cell_type": "code",
   "execution_count": 2,
   "id": "e7d6d076",
   "metadata": {},
   "outputs": [
    {
     "data": {
      "text/plain": [
       "True"
      ]
     },
     "execution_count": 2,
     "metadata": {},
     "output_type": "execute_result"
    }
   ],
   "source": [
    "a.isupper()"
   ]
  },
  {
   "cell_type": "code",
   "execution_count": 3,
   "id": "3bcdf04f",
   "metadata": {},
   "outputs": [],
   "source": [
    "b = \"Kampus merdeka\""
   ]
  },
  {
   "cell_type": "code",
   "execution_count": 4,
   "id": "64a16318",
   "metadata": {},
   "outputs": [
    {
     "data": {
      "text/plain": [
       "False"
      ]
     },
     "execution_count": 4,
     "metadata": {},
     "output_type": "execute_result"
    }
   ],
   "source": [
    "b.isupper()"
   ]
  },
  {
   "cell_type": "code",
   "execution_count": null,
   "id": "8d66b861",
   "metadata": {},
   "outputs": [],
   "source": [
    "# islower"
   ]
  },
  {
   "cell_type": "code",
   "execution_count": 7,
   "id": "0a96e841",
   "metadata": {},
   "outputs": [],
   "source": [
    "d = \"kampus merdeka\""
   ]
  },
  {
   "cell_type": "code",
   "execution_count": 8,
   "id": "917ff600",
   "metadata": {},
   "outputs": [
    {
     "data": {
      "text/plain": [
       "True"
      ]
     },
     "execution_count": 8,
     "metadata": {},
     "output_type": "execute_result"
    }
   ],
   "source": [
    "d.islower()"
   ]
  },
  {
   "cell_type": "code",
   "execution_count": null,
   "id": "211133e9",
   "metadata": {},
   "outputs": [],
   "source": [
    "# useing function lower to make the words lowercase, next using upper to uppercase, and then checking the words use isupper"
   ]
  },
  {
   "cell_type": "code",
   "execution_count": 9,
   "id": "1e4b447c",
   "metadata": {},
   "outputs": [
    {
     "name": "stdout",
     "output_type": "stream",
     "text": [
      "True\n"
     ]
    }
   ],
   "source": [
    "print(\"KAMPUS\".lower().upper().isupper())"
   ]
  },
  {
   "cell_type": "code",
   "execution_count": 10,
   "id": "418511aa",
   "metadata": {},
   "outputs": [
    {
     "name": "stdout",
     "output_type": "stream",
     "text": [
      "False\n"
     ]
    }
   ],
   "source": [
    "print(\"merdeka\".upper().lower().isupper())"
   ]
  },
  {
   "cell_type": "code",
   "execution_count": 11,
   "id": "c86e5d63",
   "metadata": {},
   "outputs": [
    {
     "name": "stdout",
     "output_type": "stream",
     "text": [
      "True\n"
     ]
    }
   ],
   "source": [
    "print(\"merdeka\".upper().lower().islower())"
   ]
  },
  {
   "cell_type": "code",
   "execution_count": 12,
   "id": "c715ed90",
   "metadata": {},
   "outputs": [
    {
     "name": "stdout",
     "output_type": "stream",
     "text": [
      "True\n"
     ]
    }
   ],
   "source": [
    "print(\"kampus\".isalpha())"
   ]
  },
  {
   "cell_type": "code",
   "execution_count": null,
   "id": "35f4178b",
   "metadata": {},
   "outputs": [],
   "source": [
    "# isalpha"
   ]
  },
  {
   "cell_type": "code",
   "execution_count": 13,
   "id": "70fb67c0",
   "metadata": {},
   "outputs": [
    {
     "name": "stdout",
     "output_type": "stream",
     "text": [
      "True\n"
     ]
    }
   ],
   "source": [
    "print(\"kampus\".isalpha())"
   ]
  },
  {
   "cell_type": "code",
   "execution_count": 14,
   "id": "f0a3dcce",
   "metadata": {},
   "outputs": [
    {
     "name": "stdout",
     "output_type": "stream",
     "text": [
      "False\n"
     ]
    }
   ],
   "source": [
    "print(\"kampus3\".isalpha())"
   ]
  },
  {
   "cell_type": "code",
   "execution_count": null,
   "id": "9977dadd",
   "metadata": {},
   "outputs": [],
   "source": [
    "# isalnum"
   ]
  },
  {
   "cell_type": "code",
   "execution_count": 15,
   "id": "5b84e37d",
   "metadata": {},
   "outputs": [
    {
     "name": "stdout",
     "output_type": "stream",
     "text": [
      "True\n"
     ]
    }
   ],
   "source": [
    "print(\"Kampus2022\".isalnum())"
   ]
  },
  {
   "cell_type": "code",
   "execution_count": null,
   "id": "330856d4",
   "metadata": {},
   "outputs": [],
   "source": [
    "# isdecimal"
   ]
  },
  {
   "cell_type": "code",
   "execution_count": 16,
   "id": "77de7024",
   "metadata": {},
   "outputs": [
    {
     "name": "stdout",
     "output_type": "stream",
     "text": [
      "True\n"
     ]
    }
   ],
   "source": [
    "print(\"2023\".isdecimal())"
   ]
  },
  {
   "cell_type": "code",
   "execution_count": null,
   "id": "7e011871",
   "metadata": {},
   "outputs": [],
   "source": [
    "# isspace"
   ]
  },
  {
   "cell_type": "code",
   "execution_count": 17,
   "id": "7cdb8371",
   "metadata": {},
   "outputs": [],
   "source": [
    "d = \" \""
   ]
  },
  {
   "cell_type": "code",
   "execution_count": 18,
   "id": "a2427e2a",
   "metadata": {},
   "outputs": [
    {
     "data": {
      "text/plain": [
       "True"
      ]
     },
     "execution_count": 18,
     "metadata": {},
     "output_type": "execute_result"
    }
   ],
   "source": [
    "d.isspace()"
   ]
  },
  {
   "cell_type": "code",
   "execution_count": 19,
   "id": "179ab1ff",
   "metadata": {},
   "outputs": [],
   "source": [
    "d = \"\\n\""
   ]
  },
  {
   "cell_type": "code",
   "execution_count": 20,
   "id": "e8c0314f",
   "metadata": {},
   "outputs": [
    {
     "data": {
      "text/plain": [
       "True"
      ]
     },
     "execution_count": 20,
     "metadata": {},
     "output_type": "execute_result"
    }
   ],
   "source": [
    "d.isspace()"
   ]
  },
  {
   "cell_type": "code",
   "execution_count": null,
   "id": "f1c6e04e",
   "metadata": {},
   "outputs": [],
   "source": [
    "# istitle"
   ]
  },
  {
   "cell_type": "code",
   "execution_count": 21,
   "id": "ec4e5b5b",
   "metadata": {},
   "outputs": [],
   "source": [
    "e = \"Kampus Merdeka\""
   ]
  },
  {
   "cell_type": "code",
   "execution_count": 22,
   "id": "7f0d4fc1",
   "metadata": {},
   "outputs": [
    {
     "data": {
      "text/plain": [
       "True"
      ]
     },
     "execution_count": 22,
     "metadata": {},
     "output_type": "execute_result"
    }
   ],
   "source": [
    "e.istitle()"
   ]
  },
  {
   "cell_type": "code",
   "execution_count": null,
   "id": "57c76b09",
   "metadata": {},
   "outputs": [],
   "source": [
    "#Challenge"
   ]
  },
  {
   "cell_type": "code",
   "execution_count": null,
   "id": "7afd43cc",
   "metadata": {},
   "outputs": [],
   "source": [
    "# isalpha"
   ]
  },
  {
   "cell_type": "code",
   "execution_count": 1,
   "id": "f8ca02ca",
   "metadata": {},
   "outputs": [
    {
     "name": "stdout",
     "output_type": "stream",
     "text": [
      "Masukkan judul:\n",
      " Broker\n",
      "Masukkan judul dengan benar.\n",
      "Masukkan judul:\n",
      "coco\n",
      "Judul film adalah coco\n"
     ]
    }
   ],
   "source": [
    "while True:\n",
    "    print('Masukkan judul:')\n",
    "    judul = input()\n",
    "    if judul.isalpha():\n",
    "        print(\"Judul film adalah\", judul)\n",
    "        break\n",
    "    print('Masukkan judul dengan benar.')"
   ]
  },
  {
   "cell_type": "code",
   "execution_count": null,
   "id": "066a4b52",
   "metadata": {},
   "outputs": [],
   "source": [
    "# isalnum"
   ]
  },
  {
   "cell_type": "code",
   "execution_count": 2,
   "id": "ab90c94c",
   "metadata": {},
   "outputs": [
    {
     "name": "stdout",
     "output_type": "stream",
     "text": [
      "Masukkan Password:\n",
      "martabak25\n",
      "Password anda martabak25\n"
     ]
    }
   ],
   "source": [
    "while True:\n",
    "    print('Masukkan Password:')\n",
    "    Password = input()\n",
    "    if Password.isalnum():\n",
    "        print(\"Password anda\", Password)\n",
    "        break\n",
    "    print('Masukkan Password dengan benar.')"
   ]
  },
  {
   "cell_type": "code",
   "execution_count": null,
   "id": "acf4cd35",
   "metadata": {},
   "outputs": [],
   "source": [
    "# isdecimal"
   ]
  },
  {
   "cell_type": "code",
   "execution_count": 5,
   "id": "3e3f9fff",
   "metadata": {},
   "outputs": [
    {
     "name": "stdout",
     "output_type": "stream",
     "text": [
      "Masukkan Score:\n",
      "80\n",
      " Score anda 80\n"
     ]
    }
   ],
   "source": [
    "while True:\n",
    "    print('Masukkan Score:')\n",
    "    Score = input()\n",
    "    if  Score.isdecimal():\n",
    "        print(\" Score anda\", Score)\n",
    "        break\n",
    "    print('Masukkan dengan benar.')"
   ]
  },
  {
   "cell_type": "code",
   "execution_count": null,
   "id": "69c903f9",
   "metadata": {},
   "outputs": [],
   "source": [
    "# isspace"
   ]
  },
  {
   "cell_type": "code",
   "execution_count": 6,
   "id": "b6dbfbaf",
   "metadata": {},
   "outputs": [
    {
     "name": "stdout",
     "output_type": "stream",
     "text": [
      "Masukkan spasi:\n",
      " \n",
      "ok  \n"
     ]
    }
   ],
   "source": [
    "while True:\n",
    "    print('Masukkan spasi:')\n",
    "    spasi = input()\n",
    "    if spasi.isspace():\n",
    "        print(\"ok\", spasi)\n",
    "        break\n",
    "    print('Masukkan spasi dengan benar.')"
   ]
  },
  {
   "cell_type": "code",
   "execution_count": null,
   "id": "b0f848fb",
   "metadata": {},
   "outputs": [],
   "source": [
    "# istitle"
   ]
  },
  {
   "cell_type": "code",
   "execution_count": 7,
   "id": "9569e662",
   "metadata": {},
   "outputs": [
    {
     "name": "stdout",
     "output_type": "stream",
     "text": [
      "Masukkan nama:\n",
      "Lana Del Ray\n",
      "nama anda adalah Lana Del Ray\n"
     ]
    }
   ],
   "source": [
    "while True:\n",
    "    print('Masukkan nama:')\n",
    "    nama = input()\n",
    "    if nama.istitle():\n",
    "        print(\"nama anda adalah\", nama)\n",
    "        break\n",
    "    print('Masukkan nama dengan benar.')"
   ]
  }
 ],
 "metadata": {
  "kernelspec": {
   "display_name": "Python 3 (ipykernel)",
   "language": "python",
   "name": "python3"
  },
  "language_info": {
   "codemirror_mode": {
    "name": "ipython",
    "version": 3
   },
   "file_extension": ".py",
   "mimetype": "text/x-python",
   "name": "python",
   "nbconvert_exporter": "python",
   "pygments_lexer": "ipython3",
   "version": "3.9.12"
  }
 },
 "nbformat": 4,
 "nbformat_minor": 5
}
