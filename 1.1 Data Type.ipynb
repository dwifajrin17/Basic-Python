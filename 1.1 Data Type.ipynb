{
 "cells": [
  {
   "cell_type": "markdown",
   "id": "9f07d95b",
   "metadata": {},
   "source": [
    "# Data Type"
   ]
  },
  {
   "cell_type": "markdown",
   "id": "72197dda",
   "metadata": {},
   "source": [
    "* Integer (int)\n",
    "\n",
    "    There is no limit how long integer value can be"
   ]
  },
  {
   "cell_type": "code",
   "execution_count": 1,
   "id": "be610c66",
   "metadata": {},
   "outputs": [],
   "source": [
    "a = 12"
   ]
  },
  {
   "cell_type": "code",
   "execution_count": 2,
   "id": "6fbd9703",
   "metadata": {},
   "outputs": [
    {
     "data": {
      "text/plain": [
       "int"
      ]
     },
     "execution_count": 2,
     "metadata": {},
     "output_type": "execute_result"
    }
   ],
   "source": [
    "type(a)"
   ]
  },
  {
   "cell_type": "code",
   "execution_count": 3,
   "id": "4f0f3ea5",
   "metadata": {},
   "outputs": [],
   "source": [
    "b = 123456789"
   ]
  },
  {
   "cell_type": "code",
   "execution_count": 4,
   "id": "864661d9",
   "metadata": {},
   "outputs": [
    {
     "data": {
      "text/plain": [
       "int"
      ]
     },
     "execution_count": 4,
     "metadata": {},
     "output_type": "execute_result"
    }
   ],
   "source": [
    "type(b)"
   ]
  },
  {
   "cell_type": "markdown",
   "id": "e69d0b35",
   "metadata": {},
   "source": [
    "* Float\n",
    "\n",
    "    Float value specified with a decimal point"
   ]
  },
  {
   "cell_type": "code",
   "execution_count": 5,
   "id": "80fafca8",
   "metadata": {},
   "outputs": [],
   "source": [
    "c = 1.2"
   ]
  },
  {
   "cell_type": "code",
   "execution_count": 6,
   "id": "1e935831",
   "metadata": {},
   "outputs": [
    {
     "data": {
      "text/plain": [
       "float"
      ]
     },
     "execution_count": 6,
     "metadata": {},
     "output_type": "execute_result"
    }
   ],
   "source": [
    "type(c)"
   ]
  },
  {
   "cell_type": "code",
   "execution_count": 7,
   "id": "1363a214",
   "metadata": {},
   "outputs": [],
   "source": [
    "d = 123.45"
   ]
  },
  {
   "cell_type": "code",
   "execution_count": 8,
   "id": "dd580de6",
   "metadata": {},
   "outputs": [
    {
     "data": {
      "text/plain": [
       "float"
      ]
     },
     "execution_count": 8,
     "metadata": {},
     "output_type": "execute_result"
    }
   ],
   "source": [
    "type(d)"
   ]
  },
  {
   "cell_type": "markdown",
   "id": "0a82ffc2",
   "metadata": {},
   "source": [
    "* Complex\n",
    "\n",
    "    Complex numbers is represented as A+Bj \n",
    "    \n",
    "    where A is real part and B is imaginary part."
   ]
  },
  {
   "cell_type": "code",
   "execution_count": 22,
   "id": "4f418f60",
   "metadata": {},
   "outputs": [],
   "source": [
    "k = 12+12.3j"
   ]
  },
  {
   "cell_type": "code",
   "execution_count": 23,
   "id": "0aba2ea8",
   "metadata": {},
   "outputs": [
    {
     "data": {
      "text/plain": [
       "complex"
      ]
     },
     "execution_count": 23,
     "metadata": {},
     "output_type": "execute_result"
    }
   ],
   "source": [
    "type(k)"
   ]
  },
  {
   "cell_type": "code",
   "execution_count": 24,
   "id": "27135adf",
   "metadata": {},
   "outputs": [],
   "source": [
    "l = 0.5+22222j"
   ]
  },
  {
   "cell_type": "code",
   "execution_count": 25,
   "id": "caf1a35a",
   "metadata": {},
   "outputs": [
    {
     "data": {
      "text/plain": [
       "complex"
      ]
     },
     "execution_count": 25,
     "metadata": {},
     "output_type": "execute_result"
    }
   ],
   "source": [
    "type(l)"
   ]
  },
  {
   "cell_type": "markdown",
   "id": "98c6465f",
   "metadata": {},
   "source": [
    "* String (str)\n",
    "\n",
    "    Strings are sequences of character data\n",
    "    \n",
    "    Strings in python are surrounded by either single quotation marks (' '), or double quotation marks (\" \")"
   ]
  },
  {
   "cell_type": "code",
   "execution_count": 10,
   "id": "08d58a69",
   "metadata": {},
   "outputs": [],
   "source": [
    "e = \"An Apple\""
   ]
  },
  {
   "cell_type": "code",
   "execution_count": 11,
   "id": "8e311e31",
   "metadata": {},
   "outputs": [
    {
     "data": {
      "text/plain": [
       "str"
      ]
     },
     "execution_count": 11,
     "metadata": {},
     "output_type": "execute_result"
    }
   ],
   "source": [
    "type(e)"
   ]
  },
  {
   "cell_type": "code",
   "execution_count": 12,
   "id": "5d8ee1ba",
   "metadata": {},
   "outputs": [],
   "source": [
    "f = \"What a wonderfull world\""
   ]
  },
  {
   "cell_type": "code",
   "execution_count": 13,
   "id": "7742fc4f",
   "metadata": {},
   "outputs": [
    {
     "data": {
      "text/plain": [
       "str"
      ]
     },
     "execution_count": 13,
     "metadata": {},
     "output_type": "execute_result"
    }
   ],
   "source": [
    "type(f)"
   ]
  },
  {
   "cell_type": "markdown",
   "id": "e6b39e3e",
   "metadata": {},
   "source": [
    "New Line\n",
    "\n",
    "    use \\n for new line or 3 double quotes "
   ]
  },
  {
   "cell_type": "code",
   "execution_count": 15,
   "id": "3d592f72",
   "metadata": {},
   "outputs": [],
   "source": [
    "g = \"An Apple for you \\n Two Manggoes for her\""
   ]
  },
  {
   "cell_type": "code",
   "execution_count": 16,
   "id": "9244d5c6",
   "metadata": {},
   "outputs": [
    {
     "name": "stdout",
     "output_type": "stream",
     "text": [
      "An Apple for you \n",
      " Two Manggoes for her\n"
     ]
    }
   ],
   "source": [
    "print(g)"
   ]
  },
  {
   "cell_type": "code",
   "execution_count": 17,
   "id": "c8753c48",
   "metadata": {},
   "outputs": [],
   "source": [
    "h = \"\"\"This is my new book,\n",
    "and that's yours\"\"\""
   ]
  },
  {
   "cell_type": "code",
   "execution_count": 18,
   "id": "839153a8",
   "metadata": {},
   "outputs": [
    {
     "name": "stdout",
     "output_type": "stream",
     "text": [
      "This is my new book,\n",
      "and that's yours\n"
     ]
    }
   ],
   "source": [
    "print(h)"
   ]
  },
  {
   "cell_type": "markdown",
   "id": "a0bc40ff",
   "metadata": {},
   "source": [
    " Escape character\n",
    "    \n",
    "    To insert characters that are illegal in a string, use an escape character.\n",
    "\n",
    "    An escape character is a backslash \\ followed by the character you want to insert."
   ]
  },
  {
   "cell_type": "code",
   "execution_count": 26,
   "id": "75ac9faf",
   "metadata": {},
   "outputs": [],
   "source": [
    "m = \"I\\'am the king\""
   ]
  },
  {
   "cell_type": "code",
   "execution_count": 27,
   "id": "dec47227",
   "metadata": {},
   "outputs": [
    {
     "name": "stdout",
     "output_type": "stream",
     "text": [
      "I'am the king\n"
     ]
    }
   ],
   "source": [
    "print(m)"
   ]
  },
  {
   "cell_type": "code",
   "execution_count": 28,
   "id": "56a96d7b",
   "metadata": {},
   "outputs": [
    {
     "name": "stdout",
     "output_type": "stream",
     "text": [
      "She is \"The One\"\n"
     ]
    }
   ],
   "source": [
    "print('She is \\\"The One\\\"')"
   ]
  },
  {
   "cell_type": "markdown",
   "id": "aae83dca",
   "metadata": {},
   "source": [
    "* Boolean\n",
    "\n",
    "    Two type of value in the boolean data type is True or False    "
   ]
  },
  {
   "cell_type": "code",
   "execution_count": 19,
   "id": "87d8e93a",
   "metadata": {},
   "outputs": [
    {
     "data": {
      "text/plain": [
       "True"
      ]
     },
     "execution_count": 19,
     "metadata": {},
     "output_type": "execute_result"
    }
   ],
   "source": [
    "23 >= 21.2"
   ]
  },
  {
   "cell_type": "code",
   "execution_count": 20,
   "id": "724e616c",
   "metadata": {},
   "outputs": [],
   "source": [
    "i = 12\n",
    "j = 12.2"
   ]
  },
  {
   "cell_type": "code",
   "execution_count": 21,
   "id": "bd15aeb0",
   "metadata": {},
   "outputs": [
    {
     "data": {
      "text/plain": [
       "False"
      ]
     },
     "execution_count": 21,
     "metadata": {},
     "output_type": "execute_result"
    }
   ],
   "source": [
    "i > j"
   ]
  },
  {
   "cell_type": "code",
   "execution_count": null,
   "id": "450c96fc",
   "metadata": {},
   "outputs": [],
   "source": []
  }
 ],
 "metadata": {
  "kernelspec": {
   "display_name": "Python 3 (ipykernel)",
   "language": "python",
   "name": "python3"
  },
  "language_info": {
   "codemirror_mode": {
    "name": "ipython",
    "version": 3
   },
   "file_extension": ".py",
   "mimetype": "text/x-python",
   "name": "python",
   "nbconvert_exporter": "python",
   "pygments_lexer": "ipython3",
   "version": "3.9.12"
  }
 },
 "nbformat": 4,
 "nbformat_minor": 5
}
