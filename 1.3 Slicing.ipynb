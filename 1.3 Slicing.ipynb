{
 "cells": [
  {
   "cell_type": "markdown",
   "id": "aba7947d",
   "metadata": {},
   "source": [
    "# Slicing"
   ]
  },
  {
   "cell_type": "markdown",
   "id": "013e8b4c",
   "metadata": {},
   "source": [
    "* Slicing in string\n",
    "\n",
    "    String is mutable objects, or mutable object can be changed after it is created\n",
    "\n",
    "    You can return a range of characters by using the slice syntax"
   ]
  },
  {
   "cell_type": "code",
   "execution_count": 2,
   "id": "963e3466",
   "metadata": {},
   "outputs": [],
   "source": [
    "a = \"kampus Merdeka\""
   ]
  },
  {
   "cell_type": "code",
   "execution_count": 3,
   "id": "1cc64d48",
   "metadata": {},
   "outputs": [
    {
     "name": "stdout",
     "output_type": "stream",
     "text": [
      "a\n"
     ]
    }
   ],
   "source": [
    "print(a[1])"
   ]
  },
  {
   "cell_type": "code",
   "execution_count": 4,
   "id": "49b22a11",
   "metadata": {},
   "outputs": [
    {
     "name": "stdout",
     "output_type": "stream",
     "text": [
      "ek\n"
     ]
    }
   ],
   "source": [
    "print(a[-3:-1])"
   ]
  },
  {
   "cell_type": "code",
   "execution_count": 5,
   "id": "4a05352a",
   "metadata": {},
   "outputs": [
    {
     "name": "stdout",
     "output_type": "stream",
     "text": [
      "dek\n"
     ]
    }
   ],
   "source": [
    "print(a[-4:-1:1])"
   ]
  },
  {
   "cell_type": "markdown",
   "id": "da57efbc",
   "metadata": {},
   "source": [
    "* modify string\n",
    "\n",
    "    it can be modify just for the letter, cant be specified just one character"
   ]
  },
  {
   "cell_type": "code",
   "execution_count": 7,
   "id": "622fc9aa",
   "metadata": {},
   "outputs": [],
   "source": [
    "a = \"kampus Merdeka\""
   ]
  },
  {
   "cell_type": "code",
   "execution_count": 8,
   "id": "31992326",
   "metadata": {},
   "outputs": [
    {
     "ename": "TypeError",
     "evalue": "'str' object does not support item assignment",
     "output_type": "error",
     "traceback": [
      "\u001b[1;31m---------------------------------------------------------------------------\u001b[0m",
      "\u001b[1;31mTypeError\u001b[0m                                 Traceback (most recent call last)",
      "Input \u001b[1;32mIn [8]\u001b[0m, in \u001b[0;36m<cell line: 1>\u001b[1;34m()\u001b[0m\n\u001b[1;32m----> 1\u001b[0m a[\u001b[38;5;241m0\u001b[39m] \u001b[38;5;241m=\u001b[39m \u001b[38;5;124m\"\u001b[39m\u001b[38;5;124mc\u001b[39m\u001b[38;5;124m\"\u001b[39m\n",
      "\u001b[1;31mTypeError\u001b[0m: 'str' object does not support item assignment"
     ]
    }
   ],
   "source": [
    "a[0] = \"c\""
   ]
  },
  {
   "cell_type": "code",
   "execution_count": 9,
   "id": "e7c2c578",
   "metadata": {},
   "outputs": [],
   "source": [
    "a = \"Campus Merdeka\""
   ]
  },
  {
   "cell_type": "code",
   "execution_count": 10,
   "id": "169b9aaa",
   "metadata": {},
   "outputs": [
    {
     "name": "stdout",
     "output_type": "stream",
     "text": [
      "Campus Merdeka\n"
     ]
    }
   ],
   "source": [
    "print(a)"
   ]
  },
  {
   "cell_type": "code",
   "execution_count": null,
   "id": "29306611",
   "metadata": {},
   "outputs": [],
   "source": []
  }
 ],
 "metadata": {
  "kernelspec": {
   "display_name": "Python 3 (ipykernel)",
   "language": "python",
   "name": "python3"
  },
  "language_info": {
   "codemirror_mode": {
    "name": "ipython",
    "version": 3
   },
   "file_extension": ".py",
   "mimetype": "text/x-python",
   "name": "python",
   "nbconvert_exporter": "python",
   "pygments_lexer": "ipython3",
   "version": "3.9.12"
  }
 },
 "nbformat": 4,
 "nbformat_minor": 5
}
