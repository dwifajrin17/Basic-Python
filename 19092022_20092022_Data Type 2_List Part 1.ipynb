{
 "cells": [
  {
   "cell_type": "code",
   "execution_count": 4,
   "id": "397a6925",
   "metadata": {},
   "outputs": [],
   "source": [
    "a = [1, 2.3, 'empat']"
   ]
  },
  {
   "cell_type": "code",
   "execution_count": null,
   "id": "bad60d25",
   "metadata": {},
   "outputs": [],
   "source": [
    "list daata type"
   ]
  },
  {
   "cell_type": "code",
   "execution_count": 5,
   "id": "b7db8935",
   "metadata": {},
   "outputs": [
    {
     "data": {
      "text/plain": [
       "1"
      ]
     },
     "execution_count": 5,
     "metadata": {},
     "output_type": "execute_result"
    }
   ],
   "source": [
    "a[0]"
   ]
  },
  {
   "cell_type": "code",
   "execution_count": null,
   "id": "4103e843",
   "metadata": {},
   "outputs": [],
   "source": [
    "--List, index dimulai dari '0'"
   ]
  },
  {
   "cell_type": "code",
   "execution_count": 6,
   "id": "dd3f2b0f",
   "metadata": {},
   "outputs": [
    {
     "data": {
      "text/plain": [
       "2.3"
      ]
     },
     "execution_count": 6,
     "metadata": {},
     "output_type": "execute_result"
    }
   ],
   "source": [
    "a[1]"
   ]
  },
  {
   "cell_type": "code",
   "execution_count": 7,
   "id": "fdbdee90",
   "metadata": {},
   "outputs": [
    {
     "data": {
      "text/plain": [
       "'empat'"
      ]
     },
     "execution_count": 7,
     "metadata": {},
     "output_type": "execute_result"
    }
   ],
   "source": [
    "a[2]"
   ]
  },
  {
   "cell_type": "code",
   "execution_count": 10,
   "id": "4100267a",
   "metadata": {},
   "outputs": [
    {
     "data": {
      "text/plain": [
       "int"
      ]
     },
     "execution_count": 10,
     "metadata": {},
     "output_type": "execute_result"
    }
   ],
   "source": [
    "type(a[0])"
   ]
  },
  {
   "cell_type": "code",
   "execution_count": 11,
   "id": "81362655",
   "metadata": {},
   "outputs": [
    {
     "data": {
      "text/plain": [
       "str"
      ]
     },
     "execution_count": 11,
     "metadata": {},
     "output_type": "execute_result"
    }
   ],
   "source": [
    "type(a[0])\n",
    "type(a[1])\n",
    "type(a[2])"
   ]
  },
  {
   "cell_type": "code",
   "execution_count": null,
   "id": "e8dba6eb",
   "metadata": {},
   "outputs": [],
   "source": [
    "-1 = pertama dari belakang"
   ]
  },
  {
   "cell_type": "code",
   "execution_count": 12,
   "id": "f004e170",
   "metadata": {},
   "outputs": [
    {
     "data": {
      "text/plain": [
       "'empat'"
      ]
     },
     "execution_count": 12,
     "metadata": {},
     "output_type": "execute_result"
    }
   ],
   "source": [
    "a[1]\n",
    "a[2]"
   ]
  },
  {
   "cell_type": "code",
   "execution_count": null,
   "id": "f5c6d5b3",
   "metadata": {},
   "outputs": [],
   "source": [
    "20 09 2022 = quiz 1 selasa"
   ]
  },
  {
   "cell_type": "code",
   "execution_count": 2,
   "id": "e20ff214",
   "metadata": {},
   "outputs": [],
   "source": [
    "b = [0.5, 25, 'Bandung', 33.3 > 30, 111.2 ]"
   ]
  },
  {
   "cell_type": "code",
   "execution_count": 3,
   "id": "a0640f54",
   "metadata": {},
   "outputs": [
    {
     "data": {
      "text/plain": [
       "0.5"
      ]
     },
     "execution_count": 3,
     "metadata": {},
     "output_type": "execute_result"
    }
   ],
   "source": [
    "b [0]"
   ]
  },
  {
   "cell_type": "code",
   "execution_count": 4,
   "id": "b765da69",
   "metadata": {},
   "outputs": [
    {
     "data": {
      "text/plain": [
       "111.2"
      ]
     },
     "execution_count": 4,
     "metadata": {},
     "output_type": "execute_result"
    }
   ],
   "source": [
    "b [-1]"
   ]
  },
  {
   "cell_type": "code",
   "execution_count": 5,
   "id": "e07f76b5",
   "metadata": {},
   "outputs": [
    {
     "data": {
      "text/plain": [
       "25"
      ]
     },
     "execution_count": 5,
     "metadata": {},
     "output_type": "execute_result"
    }
   ],
   "source": [
    "b [1]"
   ]
  },
  {
   "cell_type": "code",
   "execution_count": 6,
   "id": "57cfa17c",
   "metadata": {},
   "outputs": [
    {
     "data": {
      "text/plain": [
       "True"
      ]
     },
     "execution_count": 6,
     "metadata": {},
     "output_type": "execute_result"
    }
   ],
   "source": [
    "b [3]"
   ]
  },
  {
   "cell_type": "code",
   "execution_count": 7,
   "id": "38a9ce74",
   "metadata": {},
   "outputs": [
    {
     "data": {
      "text/plain": [
       "111.2"
      ]
     },
     "execution_count": 7,
     "metadata": {},
     "output_type": "execute_result"
    }
   ],
   "source": [
    "b [4]"
   ]
  },
  {
   "cell_type": "code",
   "execution_count": 8,
   "id": "c8630cf5",
   "metadata": {},
   "outputs": [
    {
     "data": {
      "text/plain": [
       "str"
      ]
     },
     "execution_count": 8,
     "metadata": {},
     "output_type": "execute_result"
    }
   ],
   "source": [
    "type (b[2])"
   ]
  },
  {
   "cell_type": "code",
   "execution_count": 9,
   "id": "8c23450a",
   "metadata": {},
   "outputs": [
    {
     "data": {
      "text/plain": [
       "'Bandung'"
      ]
     },
     "execution_count": 9,
     "metadata": {},
     "output_type": "execute_result"
    }
   ],
   "source": [
    "b [2]"
   ]
  },
  {
   "cell_type": "code",
   "execution_count": 10,
   "id": "1bd0d37d",
   "metadata": {},
   "outputs": [
    {
     "data": {
      "text/plain": [
       "float"
      ]
     },
     "execution_count": 10,
     "metadata": {},
     "output_type": "execute_result"
    }
   ],
   "source": [
    "type (b[-1])"
   ]
  },
  {
   "cell_type": "code",
   "execution_count": null,
   "id": "117df818",
   "metadata": {},
   "outputs": [],
   "source": [
    "INKLUSIF == 2 parameter [yg paling belakang tidak dipanggil]"
   ]
  },
  {
   "cell_type": "code",
   "execution_count": 11,
   "id": "61df76dc",
   "metadata": {},
   "outputs": [
    {
     "data": {
      "text/plain": [
       "[0.5, 25]"
      ]
     },
     "execution_count": 11,
     "metadata": {},
     "output_type": "execute_result"
    }
   ],
   "source": [
    "b [0:2]"
   ]
  },
  {
   "cell_type": "code",
   "execution_count": 12,
   "id": "1a35bccf",
   "metadata": {},
   "outputs": [
    {
     "data": {
      "text/plain": [
       "[0.5, 25, 'Bandung', True, 111.2]"
      ]
     },
     "execution_count": 12,
     "metadata": {},
     "output_type": "execute_result"
    }
   ],
   "source": [
    "b [0:8]"
   ]
  },
  {
   "cell_type": "code",
   "execution_count": 13,
   "id": "c7f9cfdf",
   "metadata": {},
   "outputs": [
    {
     "data": {
      "text/plain": [
       "[0.5, 25]"
      ]
     },
     "execution_count": 13,
     "metadata": {},
     "output_type": "execute_result"
    }
   ],
   "source": [
    "b [:2]"
   ]
  },
  {
   "cell_type": "code",
   "execution_count": null,
   "id": "083fc1ef",
   "metadata": {},
   "outputs": [],
   "source": [
    "nilai kosong = indeks ke 0"
   ]
  },
  {
   "cell_type": "code",
   "execution_count": 14,
   "id": "ef56619b",
   "metadata": {},
   "outputs": [
    {
     "data": {
      "text/plain": [
       "[25, 'Bandung']"
      ]
     },
     "execution_count": 14,
     "metadata": {},
     "output_type": "execute_result"
    }
   ],
   "source": [
    "b [1:3]"
   ]
  },
  {
   "cell_type": "code",
   "execution_count": 15,
   "id": "646de228",
   "metadata": {},
   "outputs": [
    {
     "data": {
      "text/plain": [
       "111.2"
      ]
     },
     "execution_count": 15,
     "metadata": {},
     "output_type": "execute_result"
    }
   ],
   "source": [
    "b [-1]"
   ]
  },
  {
   "cell_type": "code",
   "execution_count": 16,
   "id": "3a16c77c",
   "metadata": {},
   "outputs": [
    {
     "data": {
      "text/plain": [
       "[]"
      ]
     },
     "execution_count": 16,
     "metadata": {},
     "output_type": "execute_result"
    }
   ],
   "source": [
    "b[-1:0]"
   ]
  },
  {
   "cell_type": "code",
   "execution_count": 17,
   "id": "f63ff6c3",
   "metadata": {},
   "outputs": [
    {
     "data": {
      "text/plain": [
       "[111.2]"
      ]
     },
     "execution_count": 17,
     "metadata": {},
     "output_type": "execute_result"
    }
   ],
   "source": [
    "b [-1:]"
   ]
  },
  {
   "cell_type": "code",
   "execution_count": 18,
   "id": "2ca4501f",
   "metadata": {},
   "outputs": [
    {
     "data": {
      "text/plain": [
       "[True, 111.2]"
      ]
     },
     "execution_count": 18,
     "metadata": {},
     "output_type": "execute_result"
    }
   ],
   "source": [
    "b [-2:]"
   ]
  },
  {
   "cell_type": "code",
   "execution_count": 19,
   "id": "5d86eddc",
   "metadata": {},
   "outputs": [
    {
     "data": {
      "text/plain": [
       "[True]"
      ]
     },
     "execution_count": 19,
     "metadata": {},
     "output_type": "execute_result"
    }
   ],
   "source": [
    "b [-2:-1]"
   ]
  },
  {
   "cell_type": "code",
   "execution_count": 20,
   "id": "db825c2f",
   "metadata": {},
   "outputs": [
    {
     "data": {
      "text/plain": [
       "[]"
      ]
     },
     "execution_count": 20,
     "metadata": {},
     "output_type": "execute_result"
    }
   ],
   "source": [
    "b [-3:0]"
   ]
  },
  {
   "cell_type": "code",
   "execution_count": 21,
   "id": "3e003cd3",
   "metadata": {},
   "outputs": [
    {
     "data": {
      "text/plain": [
       "['Bandung', True, 111.2]"
      ]
     },
     "execution_count": 21,
     "metadata": {},
     "output_type": "execute_result"
    }
   ],
   "source": [
    "b [-3:]"
   ]
  },
  {
   "cell_type": "code",
   "execution_count": 27,
   "id": "8d906ace",
   "metadata": {},
   "outputs": [],
   "source": [
    "n = [0.7, 0.8, 0.10,'Bandung', 'Jakarta', 'Makassar', 'Riau', 33.3 > 30, 1 < 2, 1 != 2,  111, 888, 333, 444, 555]"
   ]
  },
  {
   "cell_type": "code",
   "execution_count": 28,
   "id": "49baf83f",
   "metadata": {},
   "outputs": [
    {
     "data": {
      "text/plain": [
       "0.8"
      ]
     },
     "execution_count": 28,
     "metadata": {},
     "output_type": "execute_result"
    }
   ],
   "source": [
    " n [1]"
   ]
  },
  {
   "cell_type": "code",
   "execution_count": 29,
   "id": "59adef1d",
   "metadata": {},
   "outputs": [
    {
     "data": {
      "text/plain": [
       "[0.1]"
      ]
     },
     "execution_count": 29,
     "metadata": {},
     "output_type": "execute_result"
    }
   ],
   "source": [
    "n [2:3]"
   ]
  },
  {
   "cell_type": "code",
   "execution_count": 30,
   "id": "dd0b141e",
   "metadata": {},
   "outputs": [
    {
     "data": {
      "text/plain": [
       "[0.7, 0.8, 0.1, 'Bandung']"
      ]
     },
     "execution_count": 30,
     "metadata": {},
     "output_type": "execute_result"
    }
   ],
   "source": [
    "n [0:4]"
   ]
  },
  {
   "cell_type": "code",
   "execution_count": 31,
   "id": "b4cb7c61",
   "metadata": {},
   "outputs": [
    {
     "data": {
      "text/plain": [
       "[333, 444]"
      ]
     },
     "execution_count": 31,
     "metadata": {},
     "output_type": "execute_result"
    }
   ],
   "source": [
    "n [-3:-1]"
   ]
  },
  {
   "cell_type": "code",
   "execution_count": 32,
   "id": "f925046e",
   "metadata": {},
   "outputs": [
    {
     "data": {
      "text/plain": [
       "[0.7, 0.8, 0.1]"
      ]
     },
     "execution_count": 32,
     "metadata": {},
     "output_type": "execute_result"
    }
   ],
   "source": [
    "n [:3]"
   ]
  },
  {
   "cell_type": "code",
   "execution_count": 33,
   "id": "65f0839b",
   "metadata": {},
   "outputs": [
    {
     "data": {
      "text/plain": [
       "[333, 444, 555]"
      ]
     },
     "execution_count": 33,
     "metadata": {},
     "output_type": "execute_result"
    }
   ],
   "source": [
    "n [-3:]"
   ]
  },
  {
   "cell_type": "code",
   "execution_count": null,
   "id": "8a52dc30",
   "metadata": {},
   "outputs": [],
   "source": [
    "3 PARAMTER, paramter ke3 artinya loncat sebanyak n, kalau kosong default loncat 1"
   ]
  },
  {
   "cell_type": "code",
   "execution_count": 35,
   "id": "bdf41b06",
   "metadata": {},
   "outputs": [],
   "source": [
    "y = [6,7,8,9,10,11,12,13,14,15]"
   ]
  },
  {
   "cell_type": "code",
   "execution_count": 36,
   "id": "e245f4ce",
   "metadata": {},
   "outputs": [
    {
     "data": {
      "text/plain": [
       "[6, 8, 10, 12]"
      ]
     },
     "execution_count": 36,
     "metadata": {},
     "output_type": "execute_result"
    }
   ],
   "source": [
    "y [0:8:2]"
   ]
  },
  {
   "cell_type": "code",
   "execution_count": 38,
   "id": "ce62698d",
   "metadata": {},
   "outputs": [
    {
     "data": {
      "text/plain": [
       "[6, 10, 14]"
      ]
     },
     "execution_count": 38,
     "metadata": {},
     "output_type": "execute_result"
    }
   ],
   "source": [
    "y [0:9:4]"
   ]
  },
  {
   "cell_type": "code",
   "execution_count": 39,
   "id": "81d82525",
   "metadata": {},
   "outputs": [
    {
     "data": {
      "text/plain": [
       "[6, 7, 8, 9, 10]"
      ]
     },
     "execution_count": 39,
     "metadata": {},
     "output_type": "execute_result"
    }
   ],
   "source": [
    "y [0:5:]"
   ]
  },
  {
   "cell_type": "code",
   "execution_count": 40,
   "id": "b29b4961",
   "metadata": {},
   "outputs": [],
   "source": [
    "y = [6,7,8,9,10,11,12,13,14,15]"
   ]
  },
  {
   "cell_type": "code",
   "execution_count": 42,
   "id": "320f6540",
   "metadata": {},
   "outputs": [
    {
     "name": "stdout",
     "output_type": "stream",
     "text": [
      "[6, 7, 8, 9, 10, 11, 12, 13, 14, 15]\n"
     ]
    }
   ],
   "source": [
    "print(y)"
   ]
  },
  {
   "cell_type": "markdown",
   "id": "85cd1da1",
   "metadata": {},
   "source": [
    "index dimulai dari 0, jumlah elemen dihitung dari 1"
   ]
  },
  {
   "cell_type": "code",
   "execution_count": 43,
   "id": "775880e9",
   "metadata": {},
   "outputs": [
    {
     "data": {
      "text/plain": [
       "10"
      ]
     },
     "execution_count": 43,
     "metadata": {},
     "output_type": "execute_result"
    }
   ],
   "source": [
    "len(y)"
   ]
  },
  {
   "cell_type": "code",
   "execution_count": null,
   "id": "abe2ba2b",
   "metadata": {},
   "outputs": [],
   "source": [
    "mengganti value di list"
   ]
  },
  {
   "cell_type": "code",
   "execution_count": 44,
   "id": "5187fd39",
   "metadata": {},
   "outputs": [],
   "source": [
    "y[0] = 1"
   ]
  },
  {
   "cell_type": "code",
   "execution_count": 45,
   "id": "6aac2017",
   "metadata": {},
   "outputs": [
    {
     "name": "stdout",
     "output_type": "stream",
     "text": [
      "[1, 7, 8, 9, 10, 11, 12, 13, 14, 15]\n"
     ]
    }
   ],
   "source": [
    "print(y)"
   ]
  },
  {
   "cell_type": "code",
   "execution_count": null,
   "id": "48868957",
   "metadata": {},
   "outputs": [],
   "source": [
    "append = nambah elemen"
   ]
  },
  {
   "cell_type": "code",
   "execution_count": 46,
   "id": "6b3db3bc",
   "metadata": {},
   "outputs": [],
   "source": [
    "y.append(16)"
   ]
  },
  {
   "cell_type": "code",
   "execution_count": 47,
   "id": "7bcf2839",
   "metadata": {},
   "outputs": [
    {
     "name": "stdout",
     "output_type": "stream",
     "text": [
      "[1, 7, 8, 9, 10, 11, 12, 13, 14, 15, 16]\n"
     ]
    }
   ],
   "source": [
    "print(y)"
   ]
  },
  {
   "cell_type": "code",
   "execution_count": 48,
   "id": "016918f7",
   "metadata": {},
   "outputs": [
    {
     "data": {
      "text/plain": [
       "11"
      ]
     },
     "execution_count": 48,
     "metadata": {},
     "output_type": "execute_result"
    }
   ],
   "source": [
    "len(y)"
   ]
  },
  {
   "cell_type": "code",
   "execution_count": null,
   "id": "87a689b8",
   "metadata": {},
   "outputs": [],
   "source": [
    "delete"
   ]
  },
  {
   "cell_type": "code",
   "execution_count": null,
   "id": "5280f04b",
   "metadata": {},
   "outputs": [],
   "source": [
    "ex = delete elemen ke-0"
   ]
  },
  {
   "cell_type": "code",
   "execution_count": 49,
   "id": "c8452ad0",
   "metadata": {},
   "outputs": [],
   "source": [
    "del y[0]"
   ]
  },
  {
   "cell_type": "code",
   "execution_count": 51,
   "id": "731818cd",
   "metadata": {},
   "outputs": [
    {
     "name": "stdout",
     "output_type": "stream",
     "text": [
      "[7, 8, 9, 10, 11, 12, 13, 14, 15, 16]\n"
     ]
    }
   ],
   "source": [
    "print(y)"
   ]
  },
  {
   "cell_type": "code",
   "execution_count": 52,
   "id": "b6a4d3ab",
   "metadata": {},
   "outputs": [
    {
     "data": {
      "text/plain": [
       "10"
      ]
     },
     "execution_count": 52,
     "metadata": {},
     "output_type": "execute_result"
    }
   ],
   "source": [
    "len(y)"
   ]
  },
  {
   "cell_type": "code",
   "execution_count": 65,
   "id": "b3ac9ab6",
   "metadata": {},
   "outputs": [],
   "source": [
    "j = [1,2,3,4,5,6,7,8,9,10]"
   ]
  },
  {
   "cell_type": "code",
   "execution_count": 66,
   "id": "301cdf12",
   "metadata": {},
   "outputs": [
    {
     "data": {
      "text/plain": [
       "10"
      ]
     },
     "execution_count": 66,
     "metadata": {},
     "output_type": "execute_result"
    }
   ],
   "source": [
    "len(j)"
   ]
  },
  {
   "cell_type": "code",
   "execution_count": 67,
   "id": "d5339636",
   "metadata": {},
   "outputs": [
    {
     "name": "stdout",
     "output_type": "stream",
     "text": [
      "[1, 2, 3, 4, 5, 6, 7, 8, 9, 10]\n"
     ]
    }
   ],
   "source": [
    "print(j)"
   ]
  },
  {
   "cell_type": "code",
   "execution_count": 68,
   "id": "9464b807",
   "metadata": {},
   "outputs": [],
   "source": [
    "j[2]=10"
   ]
  },
  {
   "cell_type": "code",
   "execution_count": 69,
   "id": "23b88ec2",
   "metadata": {},
   "outputs": [
    {
     "name": "stdout",
     "output_type": "stream",
     "text": [
      "[1, 2, 10, 4, 5, 6, 7, 8, 9, 10]\n"
     ]
    }
   ],
   "source": [
    "print(j)"
   ]
  },
  {
   "cell_type": "code",
   "execution_count": 70,
   "id": "1c8c6a63",
   "metadata": {},
   "outputs": [],
   "source": [
    "del j[3]"
   ]
  },
  {
   "cell_type": "code",
   "execution_count": 71,
   "id": "6402f30a",
   "metadata": {},
   "outputs": [
    {
     "name": "stdout",
     "output_type": "stream",
     "text": [
      "[1, 2, 10, 5, 6, 7, 8, 9, 10]\n"
     ]
    }
   ],
   "source": [
    "print(j)"
   ]
  },
  {
   "cell_type": "code",
   "execution_count": 72,
   "id": "cdb69ccd",
   "metadata": {},
   "outputs": [
    {
     "data": {
      "text/plain": [
       "9"
      ]
     },
     "execution_count": 72,
     "metadata": {},
     "output_type": "execute_result"
    }
   ],
   "source": [
    "len(j)"
   ]
  },
  {
   "cell_type": "code",
   "execution_count": 75,
   "id": "9704be93",
   "metadata": {},
   "outputs": [],
   "source": [
    "j.append(25)"
   ]
  },
  {
   "cell_type": "code",
   "execution_count": 76,
   "id": "a28715a9",
   "metadata": {},
   "outputs": [
    {
     "name": "stdout",
     "output_type": "stream",
     "text": [
      "[1, 2, 10, 5, 6, 7, 8, 9, 10, 25]\n"
     ]
    }
   ],
   "source": [
    "print(j)"
   ]
  },
  {
   "cell_type": "code",
   "execution_count": null,
   "id": "27aa55d1",
   "metadata": {},
   "outputs": [],
   "source": []
  }
 ],
 "metadata": {
  "kernelspec": {
   "display_name": "Python 3 (ipykernel)",
   "language": "python",
   "name": "python3"
  },
  "language_info": {
   "codemirror_mode": {
    "name": "ipython",
    "version": 3
   },
   "file_extension": ".py",
   "mimetype": "text/x-python",
   "name": "python",
   "nbconvert_exporter": "python",
   "pygments_lexer": "ipython3",
   "version": "3.9.12"
  }
 },
 "nbformat": 4,
 "nbformat_minor": 5
}
