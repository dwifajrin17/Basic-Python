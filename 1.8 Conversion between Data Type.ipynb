{
 "cells": [
  {
   "cell_type": "markdown",
   "id": "af0d8f01",
   "metadata": {},
   "source": [
    "Data type conversion\n"
   ]
  },
  {
   "cell_type": "code",
   "execution_count": null,
   "id": "02f21489",
   "metadata": {},
   "outputs": [],
   "source": [
    "#int to float"
   ]
  },
  {
   "cell_type": "code",
   "execution_count": 1,
   "id": "aeaa5bad",
   "metadata": {},
   "outputs": [
    {
     "data": {
      "text/plain": [
       "123"
      ]
     },
     "execution_count": 1,
     "metadata": {},
     "output_type": "execute_result"
    }
   ],
   "source": [
    "123"
   ]
  },
  {
   "cell_type": "code",
   "execution_count": 2,
   "id": "071a8fae",
   "metadata": {},
   "outputs": [
    {
     "data": {
      "text/plain": [
       "int"
      ]
     },
     "execution_count": 2,
     "metadata": {},
     "output_type": "execute_result"
    }
   ],
   "source": [
    "type(123)"
   ]
  },
  {
   "cell_type": "code",
   "execution_count": 3,
   "id": "e99c44d7",
   "metadata": {},
   "outputs": [
    {
     "data": {
      "text/plain": [
       "123.0"
      ]
     },
     "execution_count": 3,
     "metadata": {},
     "output_type": "execute_result"
    }
   ],
   "source": [
    "float(123)"
   ]
  },
  {
   "cell_type": "code",
   "execution_count": 9,
   "id": "57d1ab1e",
   "metadata": {},
   "outputs": [],
   "source": [
    "a = 23"
   ]
  },
  {
   "cell_type": "code",
   "execution_count": 10,
   "id": "f0263b1f",
   "metadata": {},
   "outputs": [
    {
     "data": {
      "text/plain": [
       "23.0"
      ]
     },
     "execution_count": 10,
     "metadata": {},
     "output_type": "execute_result"
    }
   ],
   "source": [
    "float(a)"
   ]
  },
  {
   "cell_type": "code",
   "execution_count": null,
   "id": "a9b43e0a",
   "metadata": {},
   "outputs": [],
   "source": [
    "#float to int\n",
    "#conversion float to int is floor or truncating, remove number behind coma"
   ]
  },
  {
   "cell_type": "code",
   "execution_count": 4,
   "id": "534dbc8c",
   "metadata": {},
   "outputs": [
    {
     "data": {
      "text/plain": [
       "12.3"
      ]
     },
     "execution_count": 4,
     "metadata": {},
     "output_type": "execute_result"
    }
   ],
   "source": [
    "12.3"
   ]
  },
  {
   "cell_type": "code",
   "execution_count": 5,
   "id": "c27df80c",
   "metadata": {},
   "outputs": [
    {
     "data": {
      "text/plain": [
       "float"
      ]
     },
     "execution_count": 5,
     "metadata": {},
     "output_type": "execute_result"
    }
   ],
   "source": [
    "type(12.3)"
   ]
  },
  {
   "cell_type": "code",
   "execution_count": 6,
   "id": "0204ce2d",
   "metadata": {},
   "outputs": [
    {
     "data": {
      "text/plain": [
       "12"
      ]
     },
     "execution_count": 6,
     "metadata": {},
     "output_type": "execute_result"
    }
   ],
   "source": [
    "int(12.3)"
   ]
  },
  {
   "cell_type": "code",
   "execution_count": 7,
   "id": "31ebf88b",
   "metadata": {},
   "outputs": [
    {
     "data": {
      "text/plain": [
       "12.79"
      ]
     },
     "execution_count": 7,
     "metadata": {},
     "output_type": "execute_result"
    }
   ],
   "source": [
    "12.79"
   ]
  },
  {
   "cell_type": "code",
   "execution_count": 8,
   "id": "f4c1d2fd",
   "metadata": {},
   "outputs": [
    {
     "data": {
      "text/plain": [
       "12"
      ]
     },
     "execution_count": 8,
     "metadata": {},
     "output_type": "execute_result"
    }
   ],
   "source": [
    "int(12.79)"
   ]
  },
  {
   "cell_type": "code",
   "execution_count": 11,
   "id": "0071c829",
   "metadata": {},
   "outputs": [],
   "source": [
    "b = 99.9"
   ]
  },
  {
   "cell_type": "code",
   "execution_count": 12,
   "id": "3d2dc01f",
   "metadata": {},
   "outputs": [
    {
     "data": {
      "text/plain": [
       "99"
      ]
     },
     "execution_count": 12,
     "metadata": {},
     "output_type": "execute_result"
    }
   ],
   "source": [
    "int(99.9)"
   ]
  },
  {
   "cell_type": "code",
   "execution_count": null,
   "id": "65141438",
   "metadata": {},
   "outputs": [],
   "source": []
  }
 ],
 "metadata": {
  "kernelspec": {
   "display_name": "Python 3 (ipykernel)",
   "language": "python",
   "name": "python3"
  },
  "language_info": {
   "codemirror_mode": {
    "name": "ipython",
    "version": 3
   },
   "file_extension": ".py",
   "mimetype": "text/x-python",
   "name": "python",
   "nbconvert_exporter": "python",
   "pygments_lexer": "ipython3",
   "version": "3.9.12"
  }
 },
 "nbformat": 4,
 "nbformat_minor": 5
}
