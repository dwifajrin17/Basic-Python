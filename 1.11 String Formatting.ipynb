{
 "cells": [
  {
   "cell_type": "markdown",
   "id": "e73f4838",
   "metadata": {},
   "source": [
    "Zfill\n",
    "\n",
    "Adds zeros (0) at the beginning of the string, until it reaches the specified length\n",
    "\n",
    "the chacaracter must be less or equal to the zfill value"
   ]
  },
  {
   "cell_type": "code",
   "execution_count": 1,
   "id": "c1e8d56e",
   "metadata": {},
   "outputs": [],
   "source": [
    "q = 12"
   ]
  },
  {
   "cell_type": "code",
   "execution_count": 2,
   "id": "e6d51aeb",
   "metadata": {},
   "outputs": [
    {
     "data": {
      "text/plain": [
       "'00012'"
      ]
     },
     "execution_count": 2,
     "metadata": {},
     "output_type": "execute_result"
    }
   ],
   "source": [
    "str(q).zfill(5)"
   ]
  },
  {
   "cell_type": "code",
   "execution_count": null,
   "id": "c35bdca7",
   "metadata": {},
   "outputs": [],
   "source": [
    "#d variabel already has 4 character, so no filling is done"
   ]
  },
  {
   "cell_type": "code",
   "execution_count": 3,
   "id": "c671576e",
   "metadata": {},
   "outputs": [],
   "source": [
    "d = 12.4"
   ]
  },
  {
   "cell_type": "code",
   "execution_count": 4,
   "id": "b471f1c7",
   "metadata": {},
   "outputs": [
    {
     "data": {
      "text/plain": [
       "'12.4'"
      ]
     },
     "execution_count": 4,
     "metadata": {},
     "output_type": "execute_result"
    }
   ],
   "source": [
    "str(d).zfill(4)"
   ]
  },
  {
   "cell_type": "code",
   "execution_count": 5,
   "id": "bdb9fe0a",
   "metadata": {},
   "outputs": [],
   "source": [
    "a = \"apple\""
   ]
  },
  {
   "cell_type": "code",
   "execution_count": 6,
   "id": "13f837e8",
   "metadata": {},
   "outputs": [
    {
     "data": {
      "text/plain": [
       "'0000000apple'"
      ]
     },
     "execution_count": 6,
     "metadata": {},
     "output_type": "execute_result"
    }
   ],
   "source": [
    "a.zfill(12)"
   ]
  },
  {
   "cell_type": "code",
   "execution_count": 7,
   "id": "ab36a181",
   "metadata": {},
   "outputs": [],
   "source": [
    "p = \"900\""
   ]
  },
  {
   "cell_type": "code",
   "execution_count": 8,
   "id": "62e9dd26",
   "metadata": {},
   "outputs": [
    {
     "data": {
      "text/plain": [
       "'00000900'"
      ]
     },
     "execution_count": 8,
     "metadata": {},
     "output_type": "execute_result"
    }
   ],
   "source": [
    "p.zfill(8)"
   ]
  },
  {
   "cell_type": "markdown",
   "id": "97c41222",
   "metadata": {},
   "source": [
    "* rjust and ljust\n",
    "\n",
    "    returns a new string of given length after substituting a given character in left side of original string\n",
    "    \n",
    "\n",
    "* Center\n",
    "    \n",
    "    will center align the string, using a specified character (space is default) as the fill character"
   ]
  },
  {
   "cell_type": "code",
   "execution_count": 9,
   "id": "1fa8cc91",
   "metadata": {},
   "outputs": [],
   "source": [
    "a = \"Kampus Merdeka\""
   ]
  },
  {
   "cell_type": "code",
   "execution_count": 10,
   "id": "4d9b8566",
   "metadata": {},
   "outputs": [
    {
     "data": {
      "text/plain": [
       "'      Kampus Merdeka'"
      ]
     },
     "execution_count": 10,
     "metadata": {},
     "output_type": "execute_result"
    }
   ],
   "source": [
    "a.rjust(20)"
   ]
  },
  {
   "cell_type": "code",
   "execution_count": 11,
   "id": "14579e2c",
   "metadata": {},
   "outputs": [
    {
     "data": {
      "text/plain": [
       "'Kampus Merdeka      '"
      ]
     },
     "execution_count": 11,
     "metadata": {},
     "output_type": "execute_result"
    }
   ],
   "source": [
    "a.ljust(20)"
   ]
  },
  {
   "cell_type": "code",
   "execution_count": 12,
   "id": "e2dcce5a",
   "metadata": {},
   "outputs": [
    {
     "data": {
      "text/plain": [
       "'   Kampus Merdeka   '"
      ]
     },
     "execution_count": 12,
     "metadata": {},
     "output_type": "execute_result"
    }
   ],
   "source": [
    "a.center(20)"
   ]
  },
  {
   "cell_type": "code",
   "execution_count": 13,
   "id": "8a7cf07e",
   "metadata": {},
   "outputs": [
    {
     "data": {
      "text/plain": [
       "'---Kampus Merdeka---'"
      ]
     },
     "execution_count": 13,
     "metadata": {},
     "output_type": "execute_result"
    }
   ],
   "source": [
    "a.center(20, \"-\")"
   ]
  },
  {
   "cell_type": "code",
   "execution_count": 14,
   "id": "80f4f2a8",
   "metadata": {},
   "outputs": [
    {
     "name": "stdout",
     "output_type": "stream",
     "text": [
      "              Kampus merdeka batch 3              \n",
      "Angkatan ketiga tahun 2022.                                                \n",
      "Kelas data science B jadwal kelas setiap hari                         \n",
      "--------------------------------------tidak belupa berdo'a setiap pagi\n"
     ]
    }
   ],
   "source": [
    "print('Kampus merdeka batch 3'.center(50))\n",
    "print('Angkatan ketiga tahun 2022.'.ljust(75))\n",
    "print('Kelas data science B jadwal kelas setiap hari'.ljust(70))\n",
    "print('tidak belupa berdo\\'a setiap pagi'.rjust(70,\"-\"))"
   ]
  },
  {
   "cell_type": "code",
   "execution_count": null,
   "id": "4e780264",
   "metadata": {},
   "outputs": [],
   "source": []
  }
 ],
 "metadata": {
  "kernelspec": {
   "display_name": "Python 3 (ipykernel)",
   "language": "python",
   "name": "python3"
  },
  "language_info": {
   "codemirror_mode": {
    "name": "ipython",
    "version": 3
   },
   "file_extension": ".py",
   "mimetype": "text/x-python",
   "name": "python",
   "nbconvert_exporter": "python",
   "pygments_lexer": "ipython3",
   "version": "3.9.12"
  }
 },
 "nbformat": 4,
 "nbformat_minor": 5
}
