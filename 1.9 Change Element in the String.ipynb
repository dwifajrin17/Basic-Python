{
 "cells": [
  {
   "cell_type": "markdown",
   "id": "3b31844b",
   "metadata": {},
   "source": [
    "Replace in the string\n",
    "\n",
    "syntax = variable.replace(old element, new elemen, count)"
   ]
  },
  {
   "cell_type": "code",
   "execution_count": 1,
   "id": "03c00c51",
   "metadata": {},
   "outputs": [],
   "source": [
    "a = \"Dua buah mangga\""
   ]
  },
  {
   "cell_type": "code",
   "execution_count": 2,
   "id": "3da2668c",
   "metadata": {},
   "outputs": [
    {
     "name": "stdout",
     "output_type": "stream",
     "text": [
      "Tiga buah mangga\n"
     ]
    }
   ],
   "source": [
    "print(a.replace(\"Dua\", \"Tiga\"))"
   ]
  },
  {
   "cell_type": "code",
   "execution_count": 3,
   "id": "c7010bc4",
   "metadata": {},
   "outputs": [],
   "source": [
    "b = \"dua buah mangga dan dua buah apel\""
   ]
  },
  {
   "cell_type": "code",
   "execution_count": 4,
   "id": "a1eb1758",
   "metadata": {},
   "outputs": [
    {
     "name": "stdout",
     "output_type": "stream",
     "text": [
      "empat buah mangga dan dua buah apel\n"
     ]
    }
   ],
   "source": [
    "print(b.replace(\"dua\", \"empat\", 1))"
   ]
  },
  {
   "cell_type": "code",
   "execution_count": null,
   "id": "31a7dcf1",
   "metadata": {},
   "outputs": [],
   "source": []
  }
 ],
 "metadata": {
  "kernelspec": {
   "display_name": "Python 3 (ipykernel)",
   "language": "python",
   "name": "python3"
  },
  "language_info": {
   "codemirror_mode": {
    "name": "ipython",
    "version": 3
   },
   "file_extension": ".py",
   "mimetype": "text/x-python",
   "name": "python",
   "nbconvert_exporter": "python",
   "pygments_lexer": "ipython3",
   "version": "3.9.12"
  }
 },
 "nbformat": 4,
 "nbformat_minor": 5
}
